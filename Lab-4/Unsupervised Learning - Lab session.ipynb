{
 "cells": [
  {
   "cell_type": "markdown",
   "id": "83f26a29",
   "metadata": {
    "id": "83f26a29"
   },
   "source": [
    "# Unsupervised Lab Session"
   ]
  },
  {
   "cell_type": "markdown",
   "id": "8ea571d1",
   "metadata": {
    "id": "8ea571d1"
   },
   "source": [
    "## Learning outcomes:\n",
    "- Exploratory data analysis and data preparation for model building.\n",
    "- PCA for dimensionality reduction.\n",
    "- K-means and Agglomerative Clustering"
   ]
  },
  {
   "cell_type": "markdown",
   "id": "fd7f778a",
   "metadata": {
    "id": "fd7f778a"
   },
   "source": [
    "## Problem Statement\n",
    "Based on the given marketing campigan dataset, segment the similar customers into suitable clusters. Analyze the clusters and provide your insights to help the organization promote their business."
   ]
  },
  {
   "cell_type": "markdown",
   "id": "33b58f8f",
   "metadata": {
    "id": "33b58f8f"
   },
   "source": [
    "## Context:\n",
    "- Customer Personality Analysis is a detailed analysis of a company’s ideal customers. It helps a business to better understand its customers and makes it easier for them to modify products according to the specific needs, behaviors and concerns of different types of customers.\n",
    "- Customer personality analysis helps a business to modify its product based on its target customers from different types of customer segments. For example, instead of spending money to market a new product to every customer in the company’s database, a company can analyze which customer segment is most likely to buy the product and then market the product only on that particular segment."
   ]
  },
  {
   "cell_type": "markdown",
   "id": "867166aa",
   "metadata": {
    "id": "867166aa"
   },
   "source": [
    "## About dataset\n",
    "- Source: https://www.kaggle.com/datasets/imakash3011/customer-personality-analysis?datasetId=1546318&sortBy=voteCount\n",
    "\n",
    "### Attribute Information:\n",
    "- ID: Customer's unique identifier\n",
    "- Year_Birth: Customer's birth year\n",
    "- Education: Customer's education level\n",
    "- Marital_Status: Customer's marital status\n",
    "- Income: Customer's yearly household income\n",
    "- Kidhome: Number of children in customer's household\n",
    "- Teenhome: Number of teenagers in customer's household\n",
    "- Dt_Customer: Date of customer's enrollment with the company\n",
    "- Recency: Number of days since customer's last purchase\n",
    "- Complain: 1 if the customer complained in the last 2 years, 0 otherwise\n",
    "- MntWines: Amount spent on wine in last 2 years\n",
    "- MntFruits: Amount spent on fruits in last 2 years\n",
    "- MntMeatProducts: Amount spent on meat in last 2 years\n",
    "- MntFishProducts: Amount spent on fish in last 2 years\n",
    "- MntSweetProducts: Amount spent on sweets in last 2 years\n",
    "- MntGoldProds: Amount spent on gold in last 2 years\n",
    "- NumDealsPurchases: Number of purchases made with a discount\n",
    "- AcceptedCmp1: 1 if customer accepted the offer in the 1st campaign, 0 otherwise\n",
    "- AcceptedCmp2: 1 if customer accepted the offer in the 2nd campaign, 0 otherwise\n",
    "- AcceptedCmp3: 1 if customer accepted the offer in the 3rd campaign, 0 otherwise\n",
    "- AcceptedCmp4: 1 if customer accepted the offer in the 4th campaign, 0 otherwise\n",
    "- AcceptedCmp5: 1 if customer accepted the offer in the 5th campaign, 0 otherwise\n",
    "- Response: 1 if customer accepted the offer in the last campaign, 0 otherwise\n",
    "- NumWebPurchases: Number of purchases made through the company’s website\n",
    "- NumCatalogPurchases: Number of purchases made using a catalogue\n",
    "- NumStorePurchases: Number of purchases made directly in stores\n",
    "- NumWebVisitsMonth: Number of visits to company’s website in the last month"
   ]
  },
  {
   "cell_type": "markdown",
   "id": "5a830406",
   "metadata": {
    "id": "5a830406"
   },
   "source": [
    "### 1. Import required libraries"
   ]
  },
  {
   "cell_type": "code",
   "execution_count": 1,
   "id": "d65c5528",
   "metadata": {
    "id": "d65c5528"
   },
   "outputs": [],
   "source": [
    "# importing libraries\n",
    "\n",
    "import pandas as pd\n",
    "import numpy as np\n",
    "import matplotlib.pyplot as plt\n",
    "import seaborn as sns\n",
    "import ptitprince as pt\n",
    "import warnings\n",
    "warnings.filterwarnings('ignore')\n",
    "\n",
    "from sklearn.preprocessing import StandardScaler,LabelEncoder\n",
    "from scipy import stats\n",
    "from sklearn.cluster import KMeans\n",
    "from scipy.stats import zscore\n",
    "from scipy.spatial import distance\n",
    "from scipy.cluster.hierarchy import linkage, dendrogram, fcluster\n",
    "from sklearn.cluster import AgglomerativeClustering\n",
    "from sklearn.decomposition import PCA\n",
    "from sklearn.model_selection import train_test_split\n",
    "from sklearn import preprocessing\n",
    "from sklearn.preprocessing import Normalizer"
   ]
  },
  {
   "cell_type": "markdown",
   "id": "c80eb960",
   "metadata": {
    "id": "c80eb960"
   },
   "source": [
    "### 2. Load the CSV file (i.e marketing.csv) and display the first 5 rows of the dataframe. Check the shape and info of the dataset."
   ]
  },
  {
   "cell_type": "code",
   "execution_count": 2,
   "id": "1caebc10",
   "metadata": {
    "id": "1caebc10"
   },
   "outputs": [
    {
     "data": {
      "text/html": [
       "<div>\n",
       "<style scoped>\n",
       "    .dataframe tbody tr th:only-of-type {\n",
       "        vertical-align: middle;\n",
       "    }\n",
       "\n",
       "    .dataframe tbody tr th {\n",
       "        vertical-align: top;\n",
       "    }\n",
       "\n",
       "    .dataframe thead th {\n",
       "        text-align: right;\n",
       "    }\n",
       "</style>\n",
       "<table border=\"1\" class=\"dataframe\">\n",
       "  <thead>\n",
       "    <tr style=\"text-align: right;\">\n",
       "      <th></th>\n",
       "      <th>ID</th>\n",
       "      <th>Year_Birth</th>\n",
       "      <th>Education</th>\n",
       "      <th>Marital_Status</th>\n",
       "      <th>Income</th>\n",
       "      <th>Kidhome</th>\n",
       "      <th>Teenhome</th>\n",
       "      <th>Dt_Customer</th>\n",
       "      <th>Recency</th>\n",
       "      <th>MntWines</th>\n",
       "      <th>...</th>\n",
       "      <th>NumCatalogPurchases</th>\n",
       "      <th>NumStorePurchases</th>\n",
       "      <th>NumWebVisitsMonth</th>\n",
       "      <th>AcceptedCmp3</th>\n",
       "      <th>AcceptedCmp4</th>\n",
       "      <th>AcceptedCmp5</th>\n",
       "      <th>AcceptedCmp1</th>\n",
       "      <th>AcceptedCmp2</th>\n",
       "      <th>Complain</th>\n",
       "      <th>Response</th>\n",
       "    </tr>\n",
       "  </thead>\n",
       "  <tbody>\n",
       "    <tr>\n",
       "      <th>0</th>\n",
       "      <td>5524</td>\n",
       "      <td>1957</td>\n",
       "      <td>Graduation</td>\n",
       "      <td>Single</td>\n",
       "      <td>58138.0</td>\n",
       "      <td>0</td>\n",
       "      <td>0</td>\n",
       "      <td>4/9/2012</td>\n",
       "      <td>58</td>\n",
       "      <td>635</td>\n",
       "      <td>...</td>\n",
       "      <td>10</td>\n",
       "      <td>4</td>\n",
       "      <td>7</td>\n",
       "      <td>0</td>\n",
       "      <td>0</td>\n",
       "      <td>0</td>\n",
       "      <td>0</td>\n",
       "      <td>0</td>\n",
       "      <td>0</td>\n",
       "      <td>1</td>\n",
       "    </tr>\n",
       "    <tr>\n",
       "      <th>1</th>\n",
       "      <td>2174</td>\n",
       "      <td>1954</td>\n",
       "      <td>Graduation</td>\n",
       "      <td>Single</td>\n",
       "      <td>46344.0</td>\n",
       "      <td>1</td>\n",
       "      <td>1</td>\n",
       "      <td>8/3/2014</td>\n",
       "      <td>38</td>\n",
       "      <td>11</td>\n",
       "      <td>...</td>\n",
       "      <td>1</td>\n",
       "      <td>2</td>\n",
       "      <td>5</td>\n",
       "      <td>0</td>\n",
       "      <td>0</td>\n",
       "      <td>0</td>\n",
       "      <td>0</td>\n",
       "      <td>0</td>\n",
       "      <td>0</td>\n",
       "      <td>0</td>\n",
       "    </tr>\n",
       "    <tr>\n",
       "      <th>2</th>\n",
       "      <td>4141</td>\n",
       "      <td>1965</td>\n",
       "      <td>Graduation</td>\n",
       "      <td>Together</td>\n",
       "      <td>71613.0</td>\n",
       "      <td>0</td>\n",
       "      <td>0</td>\n",
       "      <td>21-08-2013</td>\n",
       "      <td>26</td>\n",
       "      <td>426</td>\n",
       "      <td>...</td>\n",
       "      <td>2</td>\n",
       "      <td>10</td>\n",
       "      <td>4</td>\n",
       "      <td>0</td>\n",
       "      <td>0</td>\n",
       "      <td>0</td>\n",
       "      <td>0</td>\n",
       "      <td>0</td>\n",
       "      <td>0</td>\n",
       "      <td>0</td>\n",
       "    </tr>\n",
       "    <tr>\n",
       "      <th>3</th>\n",
       "      <td>6182</td>\n",
       "      <td>1984</td>\n",
       "      <td>Graduation</td>\n",
       "      <td>Together</td>\n",
       "      <td>26646.0</td>\n",
       "      <td>1</td>\n",
       "      <td>0</td>\n",
       "      <td>10/2/2014</td>\n",
       "      <td>26</td>\n",
       "      <td>11</td>\n",
       "      <td>...</td>\n",
       "      <td>0</td>\n",
       "      <td>4</td>\n",
       "      <td>6</td>\n",
       "      <td>0</td>\n",
       "      <td>0</td>\n",
       "      <td>0</td>\n",
       "      <td>0</td>\n",
       "      <td>0</td>\n",
       "      <td>0</td>\n",
       "      <td>0</td>\n",
       "    </tr>\n",
       "    <tr>\n",
       "      <th>4</th>\n",
       "      <td>5324</td>\n",
       "      <td>1981</td>\n",
       "      <td>PhD</td>\n",
       "      <td>Married</td>\n",
       "      <td>58293.0</td>\n",
       "      <td>1</td>\n",
       "      <td>0</td>\n",
       "      <td>19-01-2014</td>\n",
       "      <td>94</td>\n",
       "      <td>173</td>\n",
       "      <td>...</td>\n",
       "      <td>3</td>\n",
       "      <td>6</td>\n",
       "      <td>5</td>\n",
       "      <td>0</td>\n",
       "      <td>0</td>\n",
       "      <td>0</td>\n",
       "      <td>0</td>\n",
       "      <td>0</td>\n",
       "      <td>0</td>\n",
       "      <td>0</td>\n",
       "    </tr>\n",
       "  </tbody>\n",
       "</table>\n",
       "<p>5 rows × 27 columns</p>\n",
       "</div>"
      ],
      "text/plain": [
       "     ID  Year_Birth   Education Marital_Status   Income  Kidhome  Teenhome  \\\n",
       "0  5524        1957  Graduation         Single  58138.0        0         0   \n",
       "1  2174        1954  Graduation         Single  46344.0        1         1   \n",
       "2  4141        1965  Graduation       Together  71613.0        0         0   \n",
       "3  6182        1984  Graduation       Together  26646.0        1         0   \n",
       "4  5324        1981         PhD        Married  58293.0        1         0   \n",
       "\n",
       "  Dt_Customer  Recency  MntWines  ...  NumCatalogPurchases  NumStorePurchases  \\\n",
       "0    4/9/2012       58       635  ...                   10                  4   \n",
       "1    8/3/2014       38        11  ...                    1                  2   \n",
       "2  21-08-2013       26       426  ...                    2                 10   \n",
       "3   10/2/2014       26        11  ...                    0                  4   \n",
       "4  19-01-2014       94       173  ...                    3                  6   \n",
       "\n",
       "   NumWebVisitsMonth  AcceptedCmp3  AcceptedCmp4  AcceptedCmp5  AcceptedCmp1  \\\n",
       "0                  7             0             0             0             0   \n",
       "1                  5             0             0             0             0   \n",
       "2                  4             0             0             0             0   \n",
       "3                  6             0             0             0             0   \n",
       "4                  5             0             0             0             0   \n",
       "\n",
       "   AcceptedCmp2  Complain  Response  \n",
       "0             0         0         1  \n",
       "1             0         0         0  \n",
       "2             0         0         0  \n",
       "3             0         0         0  \n",
       "4             0         0         0  \n",
       "\n",
       "[5 rows x 27 columns]"
      ]
     },
     "execution_count": 2,
     "metadata": {},
     "output_type": "execute_result"
    }
   ],
   "source": [
    "df = pd.read_csv(\"marketing.csv\")\n",
    "df.head()"
   ]
  },
  {
   "cell_type": "code",
   "execution_count": 3,
   "id": "c87fc2ff",
   "metadata": {},
   "outputs": [
    {
     "name": "stdout",
     "output_type": "stream",
     "text": [
      "<class 'pandas.core.frame.DataFrame'>\n",
      "RangeIndex: 2240 entries, 0 to 2239\n",
      "Data columns (total 27 columns):\n",
      " #   Column               Non-Null Count  Dtype  \n",
      "---  ------               --------------  -----  \n",
      " 0   ID                   2240 non-null   int64  \n",
      " 1   Year_Birth           2240 non-null   int64  \n",
      " 2   Education            2240 non-null   object \n",
      " 3   Marital_Status       2240 non-null   object \n",
      " 4   Income               2216 non-null   float64\n",
      " 5   Kidhome              2240 non-null   int64  \n",
      " 6   Teenhome             2240 non-null   int64  \n",
      " 7   Dt_Customer          2240 non-null   object \n",
      " 8   Recency              2240 non-null   int64  \n",
      " 9   MntWines             2240 non-null   int64  \n",
      " 10  MntFruits            2240 non-null   int64  \n",
      " 11  MntMeatProducts      2240 non-null   int64  \n",
      " 12  MntFishProducts      2240 non-null   int64  \n",
      " 13  MntSweetProducts     2240 non-null   int64  \n",
      " 14  MntGoldProds         2240 non-null   int64  \n",
      " 15  NumDealsPurchases    2240 non-null   int64  \n",
      " 16  NumWebPurchases      2240 non-null   int64  \n",
      " 17  NumCatalogPurchases  2240 non-null   int64  \n",
      " 18  NumStorePurchases    2240 non-null   int64  \n",
      " 19  NumWebVisitsMonth    2240 non-null   int64  \n",
      " 20  AcceptedCmp3         2240 non-null   int64  \n",
      " 21  AcceptedCmp4         2240 non-null   int64  \n",
      " 22  AcceptedCmp5         2240 non-null   int64  \n",
      " 23  AcceptedCmp1         2240 non-null   int64  \n",
      " 24  AcceptedCmp2         2240 non-null   int64  \n",
      " 25  Complain             2240 non-null   int64  \n",
      " 26  Response             2240 non-null   int64  \n",
      "dtypes: float64(1), int64(23), object(3)\n",
      "memory usage: 472.6+ KB\n"
     ]
    }
   ],
   "source": [
    "df.info()"
   ]
  },
  {
   "cell_type": "code",
   "execution_count": 4,
   "id": "a2882e82",
   "metadata": {},
   "outputs": [
    {
     "data": {
      "text/plain": [
       "(2240, 27)"
      ]
     },
     "execution_count": 4,
     "metadata": {},
     "output_type": "execute_result"
    }
   ],
   "source": [
    "df.shape"
   ]
  },
  {
   "cell_type": "markdown",
   "id": "9ef75724",
   "metadata": {
    "id": "9ef75724"
   },
   "source": [
    "### 3. Check the percentage of missing values? If there is presence of missing values, treat them accordingly."
   ]
  },
  {
   "cell_type": "code",
   "execution_count": 5,
   "id": "f2c231df",
   "metadata": {
    "id": "f2c231df"
   },
   "outputs": [
    {
     "data": {
      "text/plain": [
       "ID                     0.000000\n",
       "Year_Birth             0.000000\n",
       "Education              0.000000\n",
       "Marital_Status         0.000000\n",
       "Income                 1.071429\n",
       "Kidhome                0.000000\n",
       "Teenhome               0.000000\n",
       "Dt_Customer            0.000000\n",
       "Recency                0.000000\n",
       "MntWines               0.000000\n",
       "MntFruits              0.000000\n",
       "MntMeatProducts        0.000000\n",
       "MntFishProducts        0.000000\n",
       "MntSweetProducts       0.000000\n",
       "MntGoldProds           0.000000\n",
       "NumDealsPurchases      0.000000\n",
       "NumWebPurchases        0.000000\n",
       "NumCatalogPurchases    0.000000\n",
       "NumStorePurchases      0.000000\n",
       "NumWebVisitsMonth      0.000000\n",
       "AcceptedCmp3           0.000000\n",
       "AcceptedCmp4           0.000000\n",
       "AcceptedCmp5           0.000000\n",
       "AcceptedCmp1           0.000000\n",
       "AcceptedCmp2           0.000000\n",
       "Complain               0.000000\n",
       "Response               0.000000\n",
       "dtype: float64"
      ]
     },
     "execution_count": 5,
     "metadata": {},
     "output_type": "execute_result"
    }
   ],
   "source": [
    "df.isnull().sum()/len(df)*100"
   ]
  },
  {
   "cell_type": "code",
   "execution_count": 6,
   "id": "de71c235",
   "metadata": {},
   "outputs": [],
   "source": [
    "df['Income']=df['Income'].fillna(df['Income'].mean())"
   ]
  },
  {
   "cell_type": "code",
   "execution_count": 7,
   "id": "3b72d1cb",
   "metadata": {},
   "outputs": [
    {
     "data": {
      "text/plain": [
       "ID                     0.0\n",
       "Year_Birth             0.0\n",
       "Education              0.0\n",
       "Marital_Status         0.0\n",
       "Income                 0.0\n",
       "Kidhome                0.0\n",
       "Teenhome               0.0\n",
       "Dt_Customer            0.0\n",
       "Recency                0.0\n",
       "MntWines               0.0\n",
       "MntFruits              0.0\n",
       "MntMeatProducts        0.0\n",
       "MntFishProducts        0.0\n",
       "MntSweetProducts       0.0\n",
       "MntGoldProds           0.0\n",
       "NumDealsPurchases      0.0\n",
       "NumWebPurchases        0.0\n",
       "NumCatalogPurchases    0.0\n",
       "NumStorePurchases      0.0\n",
       "NumWebVisitsMonth      0.0\n",
       "AcceptedCmp3           0.0\n",
       "AcceptedCmp4           0.0\n",
       "AcceptedCmp5           0.0\n",
       "AcceptedCmp1           0.0\n",
       "AcceptedCmp2           0.0\n",
       "Complain               0.0\n",
       "Response               0.0\n",
       "dtype: float64"
      ]
     },
     "execution_count": 7,
     "metadata": {},
     "output_type": "execute_result"
    }
   ],
   "source": [
    "df.isnull().sum()/len(df)*100"
   ]
  },
  {
   "cell_type": "markdown",
   "id": "86f3709e",
   "metadata": {
    "id": "86f3709e"
   },
   "source": [
    "### 4. Check if there are any duplicate records in the dataset? If any drop them."
   ]
  },
  {
   "cell_type": "code",
   "execution_count": 8,
   "id": "2970671a",
   "metadata": {
    "id": "2970671a"
   },
   "outputs": [
    {
     "name": "stdout",
     "output_type": "stream",
     "text": [
      "\u001b[1mNo duplicate records found.\u001b[0m\n"
     ]
    }
   ],
   "source": [
    "check_duplicate = len(df[df.duplicated()])\n",
    "if check_duplicate > 0:\n",
    "   \n",
    "    df = df.drop_duplicates()\n",
    "\n",
    "    print(f\"\\033[1m{check_duplicate} duplicate record(s) found and dropped.\\033[0m\")\n",
    "else:\n",
    "    print(\"\\033[1mNo duplicate records found.\\033[0m\")\n"
   ]
  },
  {
   "cell_type": "markdown",
   "id": "3a6f2b5a",
   "metadata": {
    "id": "3a6f2b5a"
   },
   "source": [
    "### 5. Drop the columns which you think redundant for the analysis "
   ]
  },
  {
   "cell_type": "code",
   "execution_count": 9,
   "id": "a9ca818b",
   "metadata": {
    "id": "a9ca818b"
   },
   "outputs": [
    {
     "data": {
      "text/plain": [
       "Index(['ID', 'Year_Birth', 'Education', 'Marital_Status', 'Income', 'Kidhome',\n",
       "       'Teenhome', 'Dt_Customer', 'Recency', 'MntWines', 'MntFruits',\n",
       "       'MntMeatProducts', 'MntFishProducts', 'MntSweetProducts',\n",
       "       'MntGoldProds', 'NumDealsPurchases', 'NumWebPurchases',\n",
       "       'NumCatalogPurchases', 'NumStorePurchases', 'NumWebVisitsMonth',\n",
       "       'AcceptedCmp3', 'AcceptedCmp4', 'AcceptedCmp5', 'AcceptedCmp1',\n",
       "       'AcceptedCmp2', 'Complain', 'Response'],\n",
       "      dtype='object')"
      ]
     },
     "execution_count": 9,
     "metadata": {},
     "output_type": "execute_result"
    }
   ],
   "source": [
    "df.columns"
   ]
  },
  {
   "cell_type": "code",
   "execution_count": 10,
   "id": "9f237e17",
   "metadata": {},
   "outputs": [],
   "source": [
    "df = df.drop(['ID','Dt_Customer'], axis=1)"
   ]
  },
  {
   "cell_type": "code",
   "execution_count": 11,
   "id": "7c25ec14",
   "metadata": {},
   "outputs": [
    {
     "data": {
      "text/html": [
       "<div>\n",
       "<style scoped>\n",
       "    .dataframe tbody tr th:only-of-type {\n",
       "        vertical-align: middle;\n",
       "    }\n",
       "\n",
       "    .dataframe tbody tr th {\n",
       "        vertical-align: top;\n",
       "    }\n",
       "\n",
       "    .dataframe thead th {\n",
       "        text-align: right;\n",
       "    }\n",
       "</style>\n",
       "<table border=\"1\" class=\"dataframe\">\n",
       "  <thead>\n",
       "    <tr style=\"text-align: right;\">\n",
       "      <th></th>\n",
       "      <th>Year_Birth</th>\n",
       "      <th>Education</th>\n",
       "      <th>Marital_Status</th>\n",
       "      <th>Income</th>\n",
       "      <th>Kidhome</th>\n",
       "      <th>Teenhome</th>\n",
       "      <th>Recency</th>\n",
       "      <th>MntWines</th>\n",
       "      <th>MntFruits</th>\n",
       "      <th>MntMeatProducts</th>\n",
       "      <th>...</th>\n",
       "      <th>NumCatalogPurchases</th>\n",
       "      <th>NumStorePurchases</th>\n",
       "      <th>NumWebVisitsMonth</th>\n",
       "      <th>AcceptedCmp3</th>\n",
       "      <th>AcceptedCmp4</th>\n",
       "      <th>AcceptedCmp5</th>\n",
       "      <th>AcceptedCmp1</th>\n",
       "      <th>AcceptedCmp2</th>\n",
       "      <th>Complain</th>\n",
       "      <th>Response</th>\n",
       "    </tr>\n",
       "  </thead>\n",
       "  <tbody>\n",
       "    <tr>\n",
       "      <th>0</th>\n",
       "      <td>1957</td>\n",
       "      <td>Graduation</td>\n",
       "      <td>Single</td>\n",
       "      <td>58138.0</td>\n",
       "      <td>0</td>\n",
       "      <td>0</td>\n",
       "      <td>58</td>\n",
       "      <td>635</td>\n",
       "      <td>88</td>\n",
       "      <td>546</td>\n",
       "      <td>...</td>\n",
       "      <td>10</td>\n",
       "      <td>4</td>\n",
       "      <td>7</td>\n",
       "      <td>0</td>\n",
       "      <td>0</td>\n",
       "      <td>0</td>\n",
       "      <td>0</td>\n",
       "      <td>0</td>\n",
       "      <td>0</td>\n",
       "      <td>1</td>\n",
       "    </tr>\n",
       "    <tr>\n",
       "      <th>1</th>\n",
       "      <td>1954</td>\n",
       "      <td>Graduation</td>\n",
       "      <td>Single</td>\n",
       "      <td>46344.0</td>\n",
       "      <td>1</td>\n",
       "      <td>1</td>\n",
       "      <td>38</td>\n",
       "      <td>11</td>\n",
       "      <td>1</td>\n",
       "      <td>6</td>\n",
       "      <td>...</td>\n",
       "      <td>1</td>\n",
       "      <td>2</td>\n",
       "      <td>5</td>\n",
       "      <td>0</td>\n",
       "      <td>0</td>\n",
       "      <td>0</td>\n",
       "      <td>0</td>\n",
       "      <td>0</td>\n",
       "      <td>0</td>\n",
       "      <td>0</td>\n",
       "    </tr>\n",
       "    <tr>\n",
       "      <th>2</th>\n",
       "      <td>1965</td>\n",
       "      <td>Graduation</td>\n",
       "      <td>Together</td>\n",
       "      <td>71613.0</td>\n",
       "      <td>0</td>\n",
       "      <td>0</td>\n",
       "      <td>26</td>\n",
       "      <td>426</td>\n",
       "      <td>49</td>\n",
       "      <td>127</td>\n",
       "      <td>...</td>\n",
       "      <td>2</td>\n",
       "      <td>10</td>\n",
       "      <td>4</td>\n",
       "      <td>0</td>\n",
       "      <td>0</td>\n",
       "      <td>0</td>\n",
       "      <td>0</td>\n",
       "      <td>0</td>\n",
       "      <td>0</td>\n",
       "      <td>0</td>\n",
       "    </tr>\n",
       "    <tr>\n",
       "      <th>3</th>\n",
       "      <td>1984</td>\n",
       "      <td>Graduation</td>\n",
       "      <td>Together</td>\n",
       "      <td>26646.0</td>\n",
       "      <td>1</td>\n",
       "      <td>0</td>\n",
       "      <td>26</td>\n",
       "      <td>11</td>\n",
       "      <td>4</td>\n",
       "      <td>20</td>\n",
       "      <td>...</td>\n",
       "      <td>0</td>\n",
       "      <td>4</td>\n",
       "      <td>6</td>\n",
       "      <td>0</td>\n",
       "      <td>0</td>\n",
       "      <td>0</td>\n",
       "      <td>0</td>\n",
       "      <td>0</td>\n",
       "      <td>0</td>\n",
       "      <td>0</td>\n",
       "    </tr>\n",
       "    <tr>\n",
       "      <th>4</th>\n",
       "      <td>1981</td>\n",
       "      <td>PhD</td>\n",
       "      <td>Married</td>\n",
       "      <td>58293.0</td>\n",
       "      <td>1</td>\n",
       "      <td>0</td>\n",
       "      <td>94</td>\n",
       "      <td>173</td>\n",
       "      <td>43</td>\n",
       "      <td>118</td>\n",
       "      <td>...</td>\n",
       "      <td>3</td>\n",
       "      <td>6</td>\n",
       "      <td>5</td>\n",
       "      <td>0</td>\n",
       "      <td>0</td>\n",
       "      <td>0</td>\n",
       "      <td>0</td>\n",
       "      <td>0</td>\n",
       "      <td>0</td>\n",
       "      <td>0</td>\n",
       "    </tr>\n",
       "  </tbody>\n",
       "</table>\n",
       "<p>5 rows × 25 columns</p>\n",
       "</div>"
      ],
      "text/plain": [
       "   Year_Birth   Education Marital_Status   Income  Kidhome  Teenhome  Recency  \\\n",
       "0        1957  Graduation         Single  58138.0        0         0       58   \n",
       "1        1954  Graduation         Single  46344.0        1         1       38   \n",
       "2        1965  Graduation       Together  71613.0        0         0       26   \n",
       "3        1984  Graduation       Together  26646.0        1         0       26   \n",
       "4        1981         PhD        Married  58293.0        1         0       94   \n",
       "\n",
       "   MntWines  MntFruits  MntMeatProducts  ...  NumCatalogPurchases  \\\n",
       "0       635         88              546  ...                   10   \n",
       "1        11          1                6  ...                    1   \n",
       "2       426         49              127  ...                    2   \n",
       "3        11          4               20  ...                    0   \n",
       "4       173         43              118  ...                    3   \n",
       "\n",
       "   NumStorePurchases  NumWebVisitsMonth  AcceptedCmp3  AcceptedCmp4  \\\n",
       "0                  4                  7             0             0   \n",
       "1                  2                  5             0             0   \n",
       "2                 10                  4             0             0   \n",
       "3                  4                  6             0             0   \n",
       "4                  6                  5             0             0   \n",
       "\n",
       "   AcceptedCmp5  AcceptedCmp1  AcceptedCmp2  Complain  Response  \n",
       "0             0             0             0         0         1  \n",
       "1             0             0             0         0         0  \n",
       "2             0             0             0         0         0  \n",
       "3             0             0             0         0         0  \n",
       "4             0             0             0         0         0  \n",
       "\n",
       "[5 rows x 25 columns]"
      ]
     },
     "execution_count": 11,
     "metadata": {},
     "output_type": "execute_result"
    }
   ],
   "source": [
    "df.head()"
   ]
  },
  {
   "cell_type": "markdown",
   "id": "4ff0a112",
   "metadata": {
    "id": "4ff0a112"
   },
   "source": [
    "### 6. Check the unique categories in the column 'Marital_Status'\n",
    "- i) Group categories 'Married', 'Together' as 'relationship'\n",
    "- ii) Group categories 'Divorced', 'Widow', 'Alone', 'YOLO', and 'Absurd' as 'Single'."
   ]
  },
  {
   "cell_type": "code",
   "execution_count": 12,
   "id": "eb1be519",
   "metadata": {
    "id": "eb1be519"
   },
   "outputs": [
    {
     "data": {
      "text/plain": [
       "array(['Single', 'Together', 'Married', 'Divorced', 'Widow', 'Alone',\n",
       "       'Absurd', 'YOLO'], dtype=object)"
      ]
     },
     "execution_count": 12,
     "metadata": {},
     "output_type": "execute_result"
    }
   ],
   "source": [
    "df['Marital_Status'].unique()"
   ]
  },
  {
   "cell_type": "code",
   "execution_count": 13,
   "id": "992fcf9c",
   "metadata": {},
   "outputs": [
    {
     "data": {
      "text/plain": [
       "Relationship    1444\n",
       "Single           480\n",
       "Divorced         232\n",
       "Widow             77\n",
       "Alone              3\n",
       "Absurd             2\n",
       "YOLO               2\n",
       "Name: Marital_Status, dtype: int64"
      ]
     },
     "execution_count": 13,
     "metadata": {},
     "output_type": "execute_result"
    }
   ],
   "source": [
    "df['Marital_Status'] =df['Marital_Status'].replace([ 'Married', 'Together' ],  'Relationship' )\n",
    "df.Marital_Status.value_counts()"
   ]
  },
  {
   "cell_type": "code",
   "execution_count": 14,
   "id": "9aba378e",
   "metadata": {},
   "outputs": [
    {
     "data": {
      "text/plain": [
       "Relationship    1444\n",
       "Single           796\n",
       "Name: Marital_Status, dtype: int64"
      ]
     },
     "execution_count": 14,
     "metadata": {},
     "output_type": "execute_result"
    }
   ],
   "source": [
    "df['Marital_Status'] =df['Marital_Status'].replace([ 'Divorced', 'Widow', 'Alone', 'YOLO','Absurd'],'Single')\n",
    "df.Marital_Status.value_counts()"
   ]
  },
  {
   "cell_type": "markdown",
   "id": "9566bfbe",
   "metadata": {
    "id": "9566bfbe"
   },
   "source": [
    "### 7. Group the columns 'MntWines', 'MntFruits', 'MntMeatProducts', 'MntFishProducts', 'MntSweetProducts', and 'MntGoldProds' as 'Total_Expenses'"
   ]
  },
  {
   "cell_type": "code",
   "execution_count": 15,
   "id": "d63469c9",
   "metadata": {},
   "outputs": [
    {
     "data": {
      "text/plain": [
       "0       1617\n",
       "1         27\n",
       "2        776\n",
       "3         53\n",
       "4        422\n",
       "        ... \n",
       "2235    1341\n",
       "2236     444\n",
       "2237    1241\n",
       "2238     843\n",
       "2239     172\n",
       "Name: Total_Expenses, Length: 2240, dtype: int64"
      ]
     },
     "execution_count": 15,
     "metadata": {},
     "output_type": "execute_result"
    }
   ],
   "source": [
    "df['Total_Expenses'] = df['MntWines'] + df['MntFruits'] + df['MntMeatProducts'] + df['MntFishProducts'] + df['MntSweetProducts'] + df['MntGoldProds']\n",
    "df['Total_Expenses']"
   ]
  },
  {
   "cell_type": "markdown",
   "id": "bf0cd083",
   "metadata": {
    "id": "bf0cd083"
   },
   "source": [
    "### 8. Group the columns 'NumWebPurchases', 'NumCatalogPurchases', 'NumStorePurchases', and 'NumDealsPurchases' as 'Num_Total_Purchases'"
   ]
  },
  {
   "cell_type": "code",
   "execution_count": 16,
   "id": "9c535ede",
   "metadata": {
    "id": "9c535ede"
   },
   "outputs": [
    {
     "data": {
      "text/plain": [
       "0       25\n",
       "1        6\n",
       "2       21\n",
       "3        8\n",
       "4       19\n",
       "        ..\n",
       "2235    18\n",
       "2236    22\n",
       "2237    19\n",
       "2238    23\n",
       "2239    11\n",
       "Name: Num_Total_Purchases, Length: 2240, dtype: int64"
      ]
     },
     "execution_count": 16,
     "metadata": {},
     "output_type": "execute_result"
    }
   ],
   "source": [
    "df['Num_Total_Purchases'] = df['NumWebPurchases'] + df['NumCatalogPurchases'] + df['NumStorePurchases'] + df['NumDealsPurchases']\n",
    "df['Num_Total_Purchases']    "
   ]
  },
  {
   "cell_type": "markdown",
   "id": "52d2dca5",
   "metadata": {
    "id": "52d2dca5"
   },
   "source": [
    "### 9. Group the columns 'Kidhome' and 'Teenhome' as 'Kids'"
   ]
  },
  {
   "cell_type": "code",
   "execution_count": 17,
   "id": "f7c861a1",
   "metadata": {
    "id": "f7c861a1"
   },
   "outputs": [
    {
     "data": {
      "text/plain": [
       "0       0\n",
       "1       2\n",
       "2       0\n",
       "3       1\n",
       "4       1\n",
       "       ..\n",
       "2235    1\n",
       "2236    3\n",
       "2237    0\n",
       "2238    1\n",
       "2239    2\n",
       "Name: Kids, Length: 2240, dtype: int64"
      ]
     },
     "execution_count": 17,
     "metadata": {},
     "output_type": "execute_result"
    }
   ],
   "source": [
    "df['Kids'] = df['Teenhome'] + df[ 'Kidhome']\n",
    "df['Kids']"
   ]
  },
  {
   "cell_type": "markdown",
   "id": "36f67474",
   "metadata": {
    "id": "36f67474"
   },
   "source": [
    "### 10. Group columns 'AcceptedCmp1 , 2 , 3 , 4, 5' and 'Response' as 'TotalAcceptedCmp'"
   ]
  },
  {
   "cell_type": "code",
   "execution_count": 18,
   "id": "ecc9109f",
   "metadata": {
    "id": "ecc9109f"
   },
   "outputs": [
    {
     "data": {
      "text/plain": [
       "0       1\n",
       "1       0\n",
       "2       0\n",
       "3       0\n",
       "4       0\n",
       "       ..\n",
       "2235    0\n",
       "2236    1\n",
       "2237    1\n",
       "2238    0\n",
       "2239    1\n",
       "Name: TotalAcceptedCmp, Length: 2240, dtype: int64"
      ]
     },
     "execution_count": 18,
     "metadata": {},
     "output_type": "execute_result"
    }
   ],
   "source": [
    "df['TotalAcceptedCmp'] = df[ 'AcceptedCmp1'] + df[ 'AcceptedCmp2'] + df[ 'AcceptedCmp3'] + df[ 'AcceptedCmp4'] + df[ 'AcceptedCmp5'] + df['Response']\n",
    "df['TotalAcceptedCmp']"
   ]
  },
  {
   "cell_type": "markdown",
   "id": "886bfb08",
   "metadata": {
    "id": "886bfb08"
   },
   "source": [
    "### 11. Drop those columns which we have used above for obtaining new features"
   ]
  },
  {
   "cell_type": "code",
   "execution_count": 19,
   "id": "e853e663",
   "metadata": {
    "id": "e853e663"
   },
   "outputs": [
    {
     "data": {
      "text/html": [
       "<div>\n",
       "<style scoped>\n",
       "    .dataframe tbody tr th:only-of-type {\n",
       "        vertical-align: middle;\n",
       "    }\n",
       "\n",
       "    .dataframe tbody tr th {\n",
       "        vertical-align: top;\n",
       "    }\n",
       "\n",
       "    .dataframe thead th {\n",
       "        text-align: right;\n",
       "    }\n",
       "</style>\n",
       "<table border=\"1\" class=\"dataframe\">\n",
       "  <thead>\n",
       "    <tr style=\"text-align: right;\">\n",
       "      <th></th>\n",
       "      <th>Year_Birth</th>\n",
       "      <th>Education</th>\n",
       "      <th>Marital_Status</th>\n",
       "      <th>Income</th>\n",
       "      <th>Recency</th>\n",
       "      <th>NumWebVisitsMonth</th>\n",
       "      <th>Complain</th>\n",
       "      <th>Total_Expenses</th>\n",
       "      <th>Num_Total_Purchases</th>\n",
       "      <th>Kids</th>\n",
       "      <th>TotalAcceptedCmp</th>\n",
       "    </tr>\n",
       "  </thead>\n",
       "  <tbody>\n",
       "    <tr>\n",
       "      <th>0</th>\n",
       "      <td>1957</td>\n",
       "      <td>Graduation</td>\n",
       "      <td>Single</td>\n",
       "      <td>58138.0</td>\n",
       "      <td>58</td>\n",
       "      <td>7</td>\n",
       "      <td>0</td>\n",
       "      <td>1617</td>\n",
       "      <td>25</td>\n",
       "      <td>0</td>\n",
       "      <td>1</td>\n",
       "    </tr>\n",
       "    <tr>\n",
       "      <th>1</th>\n",
       "      <td>1954</td>\n",
       "      <td>Graduation</td>\n",
       "      <td>Single</td>\n",
       "      <td>46344.0</td>\n",
       "      <td>38</td>\n",
       "      <td>5</td>\n",
       "      <td>0</td>\n",
       "      <td>27</td>\n",
       "      <td>6</td>\n",
       "      <td>2</td>\n",
       "      <td>0</td>\n",
       "    </tr>\n",
       "    <tr>\n",
       "      <th>2</th>\n",
       "      <td>1965</td>\n",
       "      <td>Graduation</td>\n",
       "      <td>Relationship</td>\n",
       "      <td>71613.0</td>\n",
       "      <td>26</td>\n",
       "      <td>4</td>\n",
       "      <td>0</td>\n",
       "      <td>776</td>\n",
       "      <td>21</td>\n",
       "      <td>0</td>\n",
       "      <td>0</td>\n",
       "    </tr>\n",
       "    <tr>\n",
       "      <th>3</th>\n",
       "      <td>1984</td>\n",
       "      <td>Graduation</td>\n",
       "      <td>Relationship</td>\n",
       "      <td>26646.0</td>\n",
       "      <td>26</td>\n",
       "      <td>6</td>\n",
       "      <td>0</td>\n",
       "      <td>53</td>\n",
       "      <td>8</td>\n",
       "      <td>1</td>\n",
       "      <td>0</td>\n",
       "    </tr>\n",
       "    <tr>\n",
       "      <th>4</th>\n",
       "      <td>1981</td>\n",
       "      <td>PhD</td>\n",
       "      <td>Relationship</td>\n",
       "      <td>58293.0</td>\n",
       "      <td>94</td>\n",
       "      <td>5</td>\n",
       "      <td>0</td>\n",
       "      <td>422</td>\n",
       "      <td>19</td>\n",
       "      <td>1</td>\n",
       "      <td>0</td>\n",
       "    </tr>\n",
       "  </tbody>\n",
       "</table>\n",
       "</div>"
      ],
      "text/plain": [
       "   Year_Birth   Education Marital_Status   Income  Recency  NumWebVisitsMonth  \\\n",
       "0        1957  Graduation         Single  58138.0       58                  7   \n",
       "1        1954  Graduation         Single  46344.0       38                  5   \n",
       "2        1965  Graduation   Relationship  71613.0       26                  4   \n",
       "3        1984  Graduation   Relationship  26646.0       26                  6   \n",
       "4        1981         PhD   Relationship  58293.0       94                  5   \n",
       "\n",
       "   Complain  Total_Expenses  Num_Total_Purchases  Kids  TotalAcceptedCmp  \n",
       "0         0            1617                   25     0                 1  \n",
       "1         0              27                    6     2                 0  \n",
       "2         0             776                   21     0                 0  \n",
       "3         0              53                    8     1                 0  \n",
       "4         0             422                   19     1                 0  "
      ]
     },
     "execution_count": 19,
     "metadata": {},
     "output_type": "execute_result"
    }
   ],
   "source": [
    "df = df.drop(['MntWines', 'MntFruits', 'MntMeatProducts', 'MntFishProducts', 'MntSweetProducts','MntGoldProds','NumWebPurchases', 'NumCatalogPurchases', 'NumStorePurchases','NumDealsPurchases','Kidhome','Teenhome','AcceptedCmp1','AcceptedCmp2','AcceptedCmp3','AcceptedCmp4','AcceptedCmp5','Response'], axis=1) \n",
    "df.head()"
   ]
  },
  {
   "cell_type": "markdown",
   "id": "4225ced7",
   "metadata": {
    "id": "4225ced7"
   },
   "source": [
    "### 12. Extract 'age' using the column 'Year_Birth' and then drop the column 'Year_birth'"
   ]
  },
  {
   "cell_type": "code",
   "execution_count": 20,
   "id": "d517611e",
   "metadata": {
    "id": "d517611e"
   },
   "outputs": [
    {
     "data": {
      "text/plain": [
       "0       66\n",
       "1       69\n",
       "2       58\n",
       "3       39\n",
       "4       42\n",
       "        ..\n",
       "2235    56\n",
       "2236    77\n",
       "2237    42\n",
       "2238    67\n",
       "2239    69\n",
       "Name: age, Length: 2240, dtype: int64"
      ]
     },
     "execution_count": 20,
     "metadata": {},
     "output_type": "execute_result"
    }
   ],
   "source": [
    "current_year = pd.to_datetime('today').year\n",
    "df[\"age\"] = current_year - df['Year_Birth']\n",
    "df[\"age\"]"
   ]
  },
  {
   "cell_type": "code",
   "execution_count": 21,
   "id": "b6a03998",
   "metadata": {},
   "outputs": [],
   "source": [
    "df = df.drop(['Year_Birth'], axis=1)"
   ]
  },
  {
   "cell_type": "code",
   "execution_count": 22,
   "id": "f4f178ea",
   "metadata": {},
   "outputs": [
    {
     "data": {
      "text/html": [
       "<div>\n",
       "<style scoped>\n",
       "    .dataframe tbody tr th:only-of-type {\n",
       "        vertical-align: middle;\n",
       "    }\n",
       "\n",
       "    .dataframe tbody tr th {\n",
       "        vertical-align: top;\n",
       "    }\n",
       "\n",
       "    .dataframe thead th {\n",
       "        text-align: right;\n",
       "    }\n",
       "</style>\n",
       "<table border=\"1\" class=\"dataframe\">\n",
       "  <thead>\n",
       "    <tr style=\"text-align: right;\">\n",
       "      <th></th>\n",
       "      <th>Education</th>\n",
       "      <th>Marital_Status</th>\n",
       "      <th>Income</th>\n",
       "      <th>Recency</th>\n",
       "      <th>NumWebVisitsMonth</th>\n",
       "      <th>Complain</th>\n",
       "      <th>Total_Expenses</th>\n",
       "      <th>Num_Total_Purchases</th>\n",
       "      <th>Kids</th>\n",
       "      <th>TotalAcceptedCmp</th>\n",
       "      <th>age</th>\n",
       "    </tr>\n",
       "  </thead>\n",
       "  <tbody>\n",
       "    <tr>\n",
       "      <th>0</th>\n",
       "      <td>Graduation</td>\n",
       "      <td>Single</td>\n",
       "      <td>58138.0</td>\n",
       "      <td>58</td>\n",
       "      <td>7</td>\n",
       "      <td>0</td>\n",
       "      <td>1617</td>\n",
       "      <td>25</td>\n",
       "      <td>0</td>\n",
       "      <td>1</td>\n",
       "      <td>66</td>\n",
       "    </tr>\n",
       "    <tr>\n",
       "      <th>1</th>\n",
       "      <td>Graduation</td>\n",
       "      <td>Single</td>\n",
       "      <td>46344.0</td>\n",
       "      <td>38</td>\n",
       "      <td>5</td>\n",
       "      <td>0</td>\n",
       "      <td>27</td>\n",
       "      <td>6</td>\n",
       "      <td>2</td>\n",
       "      <td>0</td>\n",
       "      <td>69</td>\n",
       "    </tr>\n",
       "    <tr>\n",
       "      <th>2</th>\n",
       "      <td>Graduation</td>\n",
       "      <td>Relationship</td>\n",
       "      <td>71613.0</td>\n",
       "      <td>26</td>\n",
       "      <td>4</td>\n",
       "      <td>0</td>\n",
       "      <td>776</td>\n",
       "      <td>21</td>\n",
       "      <td>0</td>\n",
       "      <td>0</td>\n",
       "      <td>58</td>\n",
       "    </tr>\n",
       "    <tr>\n",
       "      <th>3</th>\n",
       "      <td>Graduation</td>\n",
       "      <td>Relationship</td>\n",
       "      <td>26646.0</td>\n",
       "      <td>26</td>\n",
       "      <td>6</td>\n",
       "      <td>0</td>\n",
       "      <td>53</td>\n",
       "      <td>8</td>\n",
       "      <td>1</td>\n",
       "      <td>0</td>\n",
       "      <td>39</td>\n",
       "    </tr>\n",
       "    <tr>\n",
       "      <th>4</th>\n",
       "      <td>PhD</td>\n",
       "      <td>Relationship</td>\n",
       "      <td>58293.0</td>\n",
       "      <td>94</td>\n",
       "      <td>5</td>\n",
       "      <td>0</td>\n",
       "      <td>422</td>\n",
       "      <td>19</td>\n",
       "      <td>1</td>\n",
       "      <td>0</td>\n",
       "      <td>42</td>\n",
       "    </tr>\n",
       "  </tbody>\n",
       "</table>\n",
       "</div>"
      ],
      "text/plain": [
       "    Education Marital_Status   Income  Recency  NumWebVisitsMonth  Complain  \\\n",
       "0  Graduation         Single  58138.0       58                  7         0   \n",
       "1  Graduation         Single  46344.0       38                  5         0   \n",
       "2  Graduation   Relationship  71613.0       26                  4         0   \n",
       "3  Graduation   Relationship  26646.0       26                  6         0   \n",
       "4         PhD   Relationship  58293.0       94                  5         0   \n",
       "\n",
       "   Total_Expenses  Num_Total_Purchases  Kids  TotalAcceptedCmp  age  \n",
       "0            1617                   25     0                 1   66  \n",
       "1              27                    6     2                 0   69  \n",
       "2             776                   21     0                 0   58  \n",
       "3              53                    8     1                 0   39  \n",
       "4             422                   19     1                 0   42  "
      ]
     },
     "execution_count": 22,
     "metadata": {},
     "output_type": "execute_result"
    }
   ],
   "source": [
    "df.head()"
   ]
  },
  {
   "cell_type": "code",
   "execution_count": 23,
   "id": "88c429ae",
   "metadata": {},
   "outputs": [
    {
     "name": "stdout",
     "output_type": "stream",
     "text": [
      "<class 'pandas.core.frame.DataFrame'>\n",
      "RangeIndex: 2240 entries, 0 to 2239\n",
      "Data columns (total 11 columns):\n",
      " #   Column               Non-Null Count  Dtype  \n",
      "---  ------               --------------  -----  \n",
      " 0   Education            2240 non-null   object \n",
      " 1   Marital_Status       2240 non-null   object \n",
      " 2   Income               2240 non-null   float64\n",
      " 3   Recency              2240 non-null   int64  \n",
      " 4   NumWebVisitsMonth    2240 non-null   int64  \n",
      " 5   Complain             2240 non-null   int64  \n",
      " 6   Total_Expenses       2240 non-null   int64  \n",
      " 7   Num_Total_Purchases  2240 non-null   int64  \n",
      " 8   Kids                 2240 non-null   int64  \n",
      " 9   TotalAcceptedCmp     2240 non-null   int64  \n",
      " 10  age                  2240 non-null   int64  \n",
      "dtypes: float64(1), int64(8), object(2)\n",
      "memory usage: 192.6+ KB\n"
     ]
    }
   ],
   "source": [
    "df.info()"
   ]
  },
  {
   "cell_type": "markdown",
   "id": "f2d3c92d",
   "metadata": {
    "id": "f2d3c92d"
   },
   "source": [
    "### 13. Encode the categorical variables in the dataset"
   ]
  },
  {
   "cell_type": "code",
   "execution_count": 24,
   "id": "030cfc32",
   "metadata": {
    "id": "030cfc32"
   },
   "outputs": [
    {
     "data": {
      "text/plain": [
       "Index(['Education', 'Marital_Status'], dtype='object')"
      ]
     },
     "execution_count": 24,
     "metadata": {},
     "output_type": "execute_result"
    }
   ],
   "source": [
    "df.select_dtypes('object').columns"
   ]
  },
  {
   "cell_type": "code",
   "execution_count": 25,
   "id": "db657cd6",
   "metadata": {},
   "outputs": [],
   "source": [
    "## Performimg label encoding\n",
    "from sklearn.preprocessing import LabelEncoder\n",
    "for col in df.select_dtypes('object').columns:\n",
    "    le = LabelEncoder()\n",
    "    df[col] = le.fit_transform(df[col])"
   ]
  },
  {
   "cell_type": "code",
   "execution_count": 26,
   "id": "0b02ec2d",
   "metadata": {},
   "outputs": [
    {
     "data": {
      "text/html": [
       "<div>\n",
       "<style scoped>\n",
       "    .dataframe tbody tr th:only-of-type {\n",
       "        vertical-align: middle;\n",
       "    }\n",
       "\n",
       "    .dataframe tbody tr th {\n",
       "        vertical-align: top;\n",
       "    }\n",
       "\n",
       "    .dataframe thead th {\n",
       "        text-align: right;\n",
       "    }\n",
       "</style>\n",
       "<table border=\"1\" class=\"dataframe\">\n",
       "  <thead>\n",
       "    <tr style=\"text-align: right;\">\n",
       "      <th></th>\n",
       "      <th>Education</th>\n",
       "      <th>Marital_Status</th>\n",
       "      <th>Income</th>\n",
       "      <th>Recency</th>\n",
       "      <th>NumWebVisitsMonth</th>\n",
       "      <th>Complain</th>\n",
       "      <th>Total_Expenses</th>\n",
       "      <th>Num_Total_Purchases</th>\n",
       "      <th>Kids</th>\n",
       "      <th>TotalAcceptedCmp</th>\n",
       "      <th>age</th>\n",
       "    </tr>\n",
       "  </thead>\n",
       "  <tbody>\n",
       "    <tr>\n",
       "      <th>0</th>\n",
       "      <td>2</td>\n",
       "      <td>1</td>\n",
       "      <td>58138.0</td>\n",
       "      <td>58</td>\n",
       "      <td>7</td>\n",
       "      <td>0</td>\n",
       "      <td>1617</td>\n",
       "      <td>25</td>\n",
       "      <td>0</td>\n",
       "      <td>1</td>\n",
       "      <td>66</td>\n",
       "    </tr>\n",
       "    <tr>\n",
       "      <th>1</th>\n",
       "      <td>2</td>\n",
       "      <td>1</td>\n",
       "      <td>46344.0</td>\n",
       "      <td>38</td>\n",
       "      <td>5</td>\n",
       "      <td>0</td>\n",
       "      <td>27</td>\n",
       "      <td>6</td>\n",
       "      <td>2</td>\n",
       "      <td>0</td>\n",
       "      <td>69</td>\n",
       "    </tr>\n",
       "    <tr>\n",
       "      <th>2</th>\n",
       "      <td>2</td>\n",
       "      <td>0</td>\n",
       "      <td>71613.0</td>\n",
       "      <td>26</td>\n",
       "      <td>4</td>\n",
       "      <td>0</td>\n",
       "      <td>776</td>\n",
       "      <td>21</td>\n",
       "      <td>0</td>\n",
       "      <td>0</td>\n",
       "      <td>58</td>\n",
       "    </tr>\n",
       "    <tr>\n",
       "      <th>3</th>\n",
       "      <td>2</td>\n",
       "      <td>0</td>\n",
       "      <td>26646.0</td>\n",
       "      <td>26</td>\n",
       "      <td>6</td>\n",
       "      <td>0</td>\n",
       "      <td>53</td>\n",
       "      <td>8</td>\n",
       "      <td>1</td>\n",
       "      <td>0</td>\n",
       "      <td>39</td>\n",
       "    </tr>\n",
       "    <tr>\n",
       "      <th>4</th>\n",
       "      <td>4</td>\n",
       "      <td>0</td>\n",
       "      <td>58293.0</td>\n",
       "      <td>94</td>\n",
       "      <td>5</td>\n",
       "      <td>0</td>\n",
       "      <td>422</td>\n",
       "      <td>19</td>\n",
       "      <td>1</td>\n",
       "      <td>0</td>\n",
       "      <td>42</td>\n",
       "    </tr>\n",
       "    <tr>\n",
       "      <th>...</th>\n",
       "      <td>...</td>\n",
       "      <td>...</td>\n",
       "      <td>...</td>\n",
       "      <td>...</td>\n",
       "      <td>...</td>\n",
       "      <td>...</td>\n",
       "      <td>...</td>\n",
       "      <td>...</td>\n",
       "      <td>...</td>\n",
       "      <td>...</td>\n",
       "      <td>...</td>\n",
       "    </tr>\n",
       "    <tr>\n",
       "      <th>2235</th>\n",
       "      <td>2</td>\n",
       "      <td>0</td>\n",
       "      <td>61223.0</td>\n",
       "      <td>46</td>\n",
       "      <td>5</td>\n",
       "      <td>0</td>\n",
       "      <td>1341</td>\n",
       "      <td>18</td>\n",
       "      <td>1</td>\n",
       "      <td>0</td>\n",
       "      <td>56</td>\n",
       "    </tr>\n",
       "    <tr>\n",
       "      <th>2236</th>\n",
       "      <td>4</td>\n",
       "      <td>0</td>\n",
       "      <td>64014.0</td>\n",
       "      <td>56</td>\n",
       "      <td>7</td>\n",
       "      <td>0</td>\n",
       "      <td>444</td>\n",
       "      <td>22</td>\n",
       "      <td>3</td>\n",
       "      <td>1</td>\n",
       "      <td>77</td>\n",
       "    </tr>\n",
       "    <tr>\n",
       "      <th>2237</th>\n",
       "      <td>2</td>\n",
       "      <td>1</td>\n",
       "      <td>56981.0</td>\n",
       "      <td>91</td>\n",
       "      <td>6</td>\n",
       "      <td>0</td>\n",
       "      <td>1241</td>\n",
       "      <td>19</td>\n",
       "      <td>0</td>\n",
       "      <td>1</td>\n",
       "      <td>42</td>\n",
       "    </tr>\n",
       "    <tr>\n",
       "      <th>2238</th>\n",
       "      <td>3</td>\n",
       "      <td>0</td>\n",
       "      <td>69245.0</td>\n",
       "      <td>8</td>\n",
       "      <td>3</td>\n",
       "      <td>0</td>\n",
       "      <td>843</td>\n",
       "      <td>23</td>\n",
       "      <td>1</td>\n",
       "      <td>0</td>\n",
       "      <td>67</td>\n",
       "    </tr>\n",
       "    <tr>\n",
       "      <th>2239</th>\n",
       "      <td>4</td>\n",
       "      <td>0</td>\n",
       "      <td>52869.0</td>\n",
       "      <td>40</td>\n",
       "      <td>7</td>\n",
       "      <td>0</td>\n",
       "      <td>172</td>\n",
       "      <td>11</td>\n",
       "      <td>2</td>\n",
       "      <td>1</td>\n",
       "      <td>69</td>\n",
       "    </tr>\n",
       "  </tbody>\n",
       "</table>\n",
       "<p>2240 rows × 11 columns</p>\n",
       "</div>"
      ],
      "text/plain": [
       "      Education  Marital_Status   Income  Recency  NumWebVisitsMonth  \\\n",
       "0             2               1  58138.0       58                  7   \n",
       "1             2               1  46344.0       38                  5   \n",
       "2             2               0  71613.0       26                  4   \n",
       "3             2               0  26646.0       26                  6   \n",
       "4             4               0  58293.0       94                  5   \n",
       "...         ...             ...      ...      ...                ...   \n",
       "2235          2               0  61223.0       46                  5   \n",
       "2236          4               0  64014.0       56                  7   \n",
       "2237          2               1  56981.0       91                  6   \n",
       "2238          3               0  69245.0        8                  3   \n",
       "2239          4               0  52869.0       40                  7   \n",
       "\n",
       "      Complain  Total_Expenses  Num_Total_Purchases  Kids  TotalAcceptedCmp  \\\n",
       "0            0            1617                   25     0                 1   \n",
       "1            0              27                    6     2                 0   \n",
       "2            0             776                   21     0                 0   \n",
       "3            0              53                    8     1                 0   \n",
       "4            0             422                   19     1                 0   \n",
       "...        ...             ...                  ...   ...               ...   \n",
       "2235         0            1341                   18     1                 0   \n",
       "2236         0             444                   22     3                 1   \n",
       "2237         0            1241                   19     0                 1   \n",
       "2238         0             843                   23     1                 0   \n",
       "2239         0             172                   11     2                 1   \n",
       "\n",
       "      age  \n",
       "0      66  \n",
       "1      69  \n",
       "2      58  \n",
       "3      39  \n",
       "4      42  \n",
       "...   ...  \n",
       "2235   56  \n",
       "2236   77  \n",
       "2237   42  \n",
       "2238   67  \n",
       "2239   69  \n",
       "\n",
       "[2240 rows x 11 columns]"
      ]
     },
     "execution_count": 26,
     "metadata": {},
     "output_type": "execute_result"
    }
   ],
   "source": [
    "df"
   ]
  },
  {
   "cell_type": "markdown",
   "id": "9242e36d",
   "metadata": {
    "id": "9242e36d"
   },
   "source": [
    "### 14. Standardize the columns, so that values are in a particular range"
   ]
  },
  {
   "cell_type": "code",
   "execution_count": 27,
   "id": "72475b68",
   "metadata": {
    "id": "72475b68"
   },
   "outputs": [
    {
     "name": "stdout",
     "output_type": "stream",
     "text": [
      "\u001b[1mAll features are now scaled.\u001b[0m\n"
     ]
    }
   ],
   "source": [
    "ds = df.select_dtypes(include = 'number')\n",
    "scaler = StandardScaler()\n",
    "scaler.fit(ds)\n",
    "scaled_ds = pd.DataFrame(scaler.transform(ds),columns = ds.columns)\n",
    "print(\"\\033[1mAll features are now scaled.\\033[0m\")"
   ]
  },
  {
   "cell_type": "code",
   "execution_count": 28,
   "id": "b50a0ebf",
   "metadata": {},
   "outputs": [
    {
     "data": {
      "text/html": [
       "<div>\n",
       "<style scoped>\n",
       "    .dataframe tbody tr th:only-of-type {\n",
       "        vertical-align: middle;\n",
       "    }\n",
       "\n",
       "    .dataframe tbody tr th {\n",
       "        vertical-align: top;\n",
       "    }\n",
       "\n",
       "    .dataframe thead th {\n",
       "        text-align: right;\n",
       "    }\n",
       "</style>\n",
       "<table border=\"1\" class=\"dataframe\">\n",
       "  <thead>\n",
       "    <tr style=\"text-align: right;\">\n",
       "      <th></th>\n",
       "      <th>Education</th>\n",
       "      <th>Marital_Status</th>\n",
       "      <th>Income</th>\n",
       "      <th>Recency</th>\n",
       "      <th>NumWebVisitsMonth</th>\n",
       "      <th>Complain</th>\n",
       "      <th>Total_Expenses</th>\n",
       "      <th>Num_Total_Purchases</th>\n",
       "      <th>Kids</th>\n",
       "      <th>TotalAcceptedCmp</th>\n",
       "      <th>age</th>\n",
       "    </tr>\n",
       "  </thead>\n",
       "  <tbody>\n",
       "    <tr>\n",
       "      <th>0</th>\n",
       "      <td>-0.350141</td>\n",
       "      <td>1.346874</td>\n",
       "      <td>0.235327</td>\n",
       "      <td>0.307039</td>\n",
       "      <td>0.693904</td>\n",
       "      <td>-0.097282</td>\n",
       "      <td>1.679417</td>\n",
       "      <td>1.320826</td>\n",
       "      <td>-1.264505</td>\n",
       "      <td>0.621248</td>\n",
       "      <td>0.985345</td>\n",
       "    </tr>\n",
       "    <tr>\n",
       "      <th>1</th>\n",
       "      <td>-0.350141</td>\n",
       "      <td>1.346874</td>\n",
       "      <td>-0.235826</td>\n",
       "      <td>-0.383664</td>\n",
       "      <td>-0.130463</td>\n",
       "      <td>-0.097282</td>\n",
       "      <td>-0.961275</td>\n",
       "      <td>-1.154596</td>\n",
       "      <td>1.396361</td>\n",
       "      <td>-0.501912</td>\n",
       "      <td>1.235733</td>\n",
       "    </tr>\n",
       "    <tr>\n",
       "      <th>2</th>\n",
       "      <td>-0.350141</td>\n",
       "      <td>-0.742460</td>\n",
       "      <td>0.773633</td>\n",
       "      <td>-0.798086</td>\n",
       "      <td>-0.542647</td>\n",
       "      <td>-0.097282</td>\n",
       "      <td>0.282673</td>\n",
       "      <td>0.799685</td>\n",
       "      <td>-1.264505</td>\n",
       "      <td>-0.501912</td>\n",
       "      <td>0.317643</td>\n",
       "    </tr>\n",
       "    <tr>\n",
       "      <th>3</th>\n",
       "      <td>-0.350141</td>\n",
       "      <td>-0.742460</td>\n",
       "      <td>-1.022732</td>\n",
       "      <td>-0.798086</td>\n",
       "      <td>0.281720</td>\n",
       "      <td>-0.097282</td>\n",
       "      <td>-0.918094</td>\n",
       "      <td>-0.894025</td>\n",
       "      <td>0.065928</td>\n",
       "      <td>-0.501912</td>\n",
       "      <td>-1.268149</td>\n",
       "    </tr>\n",
       "    <tr>\n",
       "      <th>4</th>\n",
       "      <td>1.428354</td>\n",
       "      <td>-0.742460</td>\n",
       "      <td>0.241519</td>\n",
       "      <td>1.550305</td>\n",
       "      <td>-0.130463</td>\n",
       "      <td>-0.097282</td>\n",
       "      <td>-0.305254</td>\n",
       "      <td>0.539114</td>\n",
       "      <td>0.065928</td>\n",
       "      <td>-0.501912</td>\n",
       "      <td>-1.017761</td>\n",
       "    </tr>\n",
       "    <tr>\n",
       "      <th>...</th>\n",
       "      <td>...</td>\n",
       "      <td>...</td>\n",
       "      <td>...</td>\n",
       "      <td>...</td>\n",
       "      <td>...</td>\n",
       "      <td>...</td>\n",
       "      <td>...</td>\n",
       "      <td>...</td>\n",
       "      <td>...</td>\n",
       "      <td>...</td>\n",
       "      <td>...</td>\n",
       "    </tr>\n",
       "    <tr>\n",
       "      <th>2235</th>\n",
       "      <td>-0.350141</td>\n",
       "      <td>-0.742460</td>\n",
       "      <td>0.358568</td>\n",
       "      <td>-0.107383</td>\n",
       "      <td>-0.130463</td>\n",
       "      <td>-0.097282</td>\n",
       "      <td>1.221032</td>\n",
       "      <td>0.408829</td>\n",
       "      <td>0.065928</td>\n",
       "      <td>-0.501912</td>\n",
       "      <td>0.150717</td>\n",
       "    </tr>\n",
       "    <tr>\n",
       "      <th>2236</th>\n",
       "      <td>1.428354</td>\n",
       "      <td>-0.742460</td>\n",
       "      <td>0.470064</td>\n",
       "      <td>0.237969</td>\n",
       "      <td>0.693904</td>\n",
       "      <td>-0.097282</td>\n",
       "      <td>-0.268717</td>\n",
       "      <td>0.929970</td>\n",
       "      <td>2.726794</td>\n",
       "      <td>0.621248</td>\n",
       "      <td>1.903435</td>\n",
       "    </tr>\n",
       "    <tr>\n",
       "      <th>2237</th>\n",
       "      <td>-0.350141</td>\n",
       "      <td>1.346874</td>\n",
       "      <td>0.189106</td>\n",
       "      <td>1.446700</td>\n",
       "      <td>0.281720</td>\n",
       "      <td>-0.097282</td>\n",
       "      <td>1.054951</td>\n",
       "      <td>0.539114</td>\n",
       "      <td>-1.264505</td>\n",
       "      <td>0.621248</td>\n",
       "      <td>-1.017761</td>\n",
       "    </tr>\n",
       "    <tr>\n",
       "      <th>2238</th>\n",
       "      <td>0.539106</td>\n",
       "      <td>-0.742460</td>\n",
       "      <td>0.679035</td>\n",
       "      <td>-1.419719</td>\n",
       "      <td>-0.954831</td>\n",
       "      <td>-0.097282</td>\n",
       "      <td>0.393948</td>\n",
       "      <td>1.060255</td>\n",
       "      <td>0.065928</td>\n",
       "      <td>-0.501912</td>\n",
       "      <td>1.068807</td>\n",
       "    </tr>\n",
       "    <tr>\n",
       "      <th>2239</th>\n",
       "      <td>1.428354</td>\n",
       "      <td>-0.742460</td>\n",
       "      <td>0.024838</td>\n",
       "      <td>-0.314594</td>\n",
       "      <td>0.693904</td>\n",
       "      <td>-0.097282</td>\n",
       "      <td>-0.720458</td>\n",
       "      <td>-0.503169</td>\n",
       "      <td>1.396361</td>\n",
       "      <td>0.621248</td>\n",
       "      <td>1.235733</td>\n",
       "    </tr>\n",
       "  </tbody>\n",
       "</table>\n",
       "<p>2240 rows × 11 columns</p>\n",
       "</div>"
      ],
      "text/plain": [
       "      Education  Marital_Status    Income   Recency  NumWebVisitsMonth  \\\n",
       "0     -0.350141        1.346874  0.235327  0.307039           0.693904   \n",
       "1     -0.350141        1.346874 -0.235826 -0.383664          -0.130463   \n",
       "2     -0.350141       -0.742460  0.773633 -0.798086          -0.542647   \n",
       "3     -0.350141       -0.742460 -1.022732 -0.798086           0.281720   \n",
       "4      1.428354       -0.742460  0.241519  1.550305          -0.130463   \n",
       "...         ...             ...       ...       ...                ...   \n",
       "2235  -0.350141       -0.742460  0.358568 -0.107383          -0.130463   \n",
       "2236   1.428354       -0.742460  0.470064  0.237969           0.693904   \n",
       "2237  -0.350141        1.346874  0.189106  1.446700           0.281720   \n",
       "2238   0.539106       -0.742460  0.679035 -1.419719          -0.954831   \n",
       "2239   1.428354       -0.742460  0.024838 -0.314594           0.693904   \n",
       "\n",
       "      Complain  Total_Expenses  Num_Total_Purchases      Kids  \\\n",
       "0    -0.097282        1.679417             1.320826 -1.264505   \n",
       "1    -0.097282       -0.961275            -1.154596  1.396361   \n",
       "2    -0.097282        0.282673             0.799685 -1.264505   \n",
       "3    -0.097282       -0.918094            -0.894025  0.065928   \n",
       "4    -0.097282       -0.305254             0.539114  0.065928   \n",
       "...        ...             ...                  ...       ...   \n",
       "2235 -0.097282        1.221032             0.408829  0.065928   \n",
       "2236 -0.097282       -0.268717             0.929970  2.726794   \n",
       "2237 -0.097282        1.054951             0.539114 -1.264505   \n",
       "2238 -0.097282        0.393948             1.060255  0.065928   \n",
       "2239 -0.097282       -0.720458            -0.503169  1.396361   \n",
       "\n",
       "      TotalAcceptedCmp       age  \n",
       "0             0.621248  0.985345  \n",
       "1            -0.501912  1.235733  \n",
       "2            -0.501912  0.317643  \n",
       "3            -0.501912 -1.268149  \n",
       "4            -0.501912 -1.017761  \n",
       "...                ...       ...  \n",
       "2235         -0.501912  0.150717  \n",
       "2236          0.621248  1.903435  \n",
       "2237          0.621248 -1.017761  \n",
       "2238         -0.501912  1.068807  \n",
       "2239          0.621248  1.235733  \n",
       "\n",
       "[2240 rows x 11 columns]"
      ]
     },
     "execution_count": 28,
     "metadata": {},
     "output_type": "execute_result"
    }
   ],
   "source": [
    "scaled_ds"
   ]
  },
  {
   "cell_type": "markdown",
   "id": "d063d2e2",
   "metadata": {
    "id": "d063d2e2"
   },
   "source": [
    "### 15. Apply PCA on the above dataset and determine the number of PCA components to be used so that 90-95% of the variance in data is explained by the same."
   ]
  },
  {
   "cell_type": "code",
   "execution_count": 29,
   "id": "6df3c70e",
   "metadata": {
    "id": "6df3c70e"
   },
   "outputs": [
    {
     "name": "stdout",
     "output_type": "stream",
     "text": [
      "\u001b[1mCovariance Matrix\u001b[0m \n",
      " [[ 1.00044663  0.01375403  0.1200273  -0.01173369 -0.04029882 -0.05056252\n",
      "   0.09209518  0.09405439  0.05321304  0.06327892  0.17146685]\n",
      " [ 0.01375403  1.00044663 -0.00463847  0.00450972 -0.00344176  0.00520466\n",
      "   0.01775232 -0.00671037 -0.03917598  0.06004206  0.0042384 ]\n",
      " [ 0.1200273  -0.00463847  1.00044663 -0.00394826 -0.55006966 -0.02723528\n",
      "   0.66500337  0.5636214  -0.29084155  0.28717443  0.16101378]\n",
      " [-0.01173369  0.00450972 -0.00394826  1.00044663 -0.02145427  0.01323699\n",
      "   0.02044173  0.00574294  0.01806145 -0.08900203  0.01987996]\n",
      " [-0.04029882 -0.00344176 -0.55006966 -0.02145427  1.00044663  0.01977734\n",
      "  -0.50044131 -0.31242795  0.41860616 -0.12836726 -0.12119336]\n",
      " [-0.05056252  0.00520466 -0.02723528  0.01323699  0.01977734  1.00044663\n",
      "  -0.03707503 -0.02059185  0.03108014 -0.01761676  0.030141  ]\n",
      " [ 0.09209518  0.01775232  0.66500337  0.02044173 -0.50044131 -0.03707503\n",
      "   1.00044663  0.75423984 -0.49911047  0.4564099   0.11135611]\n",
      " [ 0.09405439 -0.00671037  0.5636214   0.00574294 -0.31242795 -0.02059185\n",
      "   0.75423984  1.00044663 -0.24589955  0.25816052  0.16837908]\n",
      " [ 0.05321304 -0.03917598 -0.29084155  0.01806145  0.41860616  0.03108014\n",
      "  -0.49911047 -0.24589955  1.00044663 -0.25387372  0.09023955]\n",
      " [ 0.06327892  0.06004206  0.28717443 -0.08900203 -0.12836726 -0.01761676\n",
      "   0.4564099   0.25816052 -0.25387372  1.00044663 -0.00830618]\n",
      " [ 0.17146685  0.0042384   0.16101378  0.01987996 -0.12119336  0.030141\n",
      "   0.11135611  0.16837908  0.09023955 -0.00830618  1.00044663]]\n"
     ]
    }
   ],
   "source": [
    "## Calculating covariance matrix\n",
    "cov_matrix = np.cov(scaled_ds.T)\n",
    "print('\\033[1mCovariance Matrix\\033[0m','\\n', cov_matrix)"
   ]
  },
  {
   "cell_type": "code",
   "execution_count": 30,
   "id": "b1694ca1",
   "metadata": {},
   "outputs": [
    {
     "name": "stdout",
     "output_type": "stream",
     "text": [
      "\u001b[1mEigen vectors :\u001b[0m \n",
      " [[-8.10878879e-02 -1.28355184e-02  2.36293947e-02  5.51249544e-01\n",
      "   9.44095922e-02  1.09410621e-01  6.91170717e-01 -2.13981881e-01\n",
      "   3.53512225e-01  1.33215293e-01  4.14647769e-02]\n",
      " [-1.66012105e-02  5.44320001e-04 -2.67214391e-03 -7.24616823e-02\n",
      "  -9.22507506e-03  1.59630615e-01 -9.75252262e-02  2.48006969e-01\n",
      "   2.93241983e-01  5.20771188e-01 -7.35314297e-01]\n",
      " [-4.53880338e-01 -1.10208189e-01 -7.33626969e-01  1.11676478e-01\n",
      "  -4.01003018e-01  2.33850859e-01 -3.55906464e-02  8.23323221e-02\n",
      "  -7.12476789e-02 -3.27656138e-02  3.84949439e-02]\n",
      " [ 4.86396555e-03 -3.74604574e-02 -1.76527197e-02  1.12971535e-01\n",
      "  -4.88116231e-02 -1.39195279e-01  2.76319114e-02 -4.78177475e-01\n",
      "  -6.57510164e-01  5.43205810e-01 -8.32561223e-02]\n",
      " [ 3.78658345e-01  9.89489261e-02 -5.23256954e-01  3.88425153e-02\n",
      "   4.48112460e-01  8.25533630e-02 -2.94912266e-01 -4.57654180e-01\n",
      "   2.47273799e-01 -5.72617366e-02 -5.52876154e-02]\n",
      " [ 2.90760818e-02  6.06341959e-03 -2.99897258e-03  2.18322944e-02\n",
      "   1.32512441e-02  6.69753940e-02  2.59964497e-01 -1.36535221e-01\n",
      "  -3.32942389e-01 -6.20854560e-01 -6.41433122e-01]\n",
      " [-5.13798774e-01  8.08731367e-01  1.17264129e-01 -3.71658939e-02\n",
      "   1.69401403e-01  9.38893200e-02 -9.86519786e-02 -1.39576264e-01\n",
      "  -4.61806718e-04 -8.17615116e-03 -6.27437640e-03]\n",
      " [-4.29017441e-01 -5.04358880e-01  3.04719064e-01  1.38520052e-01\n",
      "   3.58716989e-01  4.26004900e-01 -3.25141464e-01 -1.68760606e-01\n",
      "  -2.33770464e-02 -6.69212651e-02  1.20222745e-02]\n",
      " [ 3.24830013e-01  1.92207778e-01  2.56272959e-01  4.21696656e-01\n",
      "  -5.64587849e-01  3.67863937e-01 -3.50529639e-01 -1.64371746e-01\n",
      "   6.02541793e-02 -8.00971488e-02 -4.38176281e-03]\n",
      " [-2.79858667e-01 -1.76030180e-01  1.09515910e-01 -1.80985068e-01\n",
      "  -3.49326656e-01 -4.95096343e-01 -1.14208753e-01 -5.15379125e-01\n",
      "   4.14239939e-01 -9.46091473e-02 -1.39959893e-01]\n",
      " [-1.04928635e-01  1.01690738e-02 -5.32295090e-02  6.57647990e-01\n",
      "   1.69328363e-01 -5.53575132e-01 -3.23763830e-01  2.97636330e-01\n",
      "  -6.22530283e-02 -7.90814700e-02 -1.22045361e-01]]\n",
      "\n",
      "\n",
      "\u001b[1mEigen values :\u001b[0m \n",
      " [3.19039372 0.15898065 0.33403219 1.25762686 0.57476787 0.70088408\n",
      " 0.81488009 0.88268465 1.07560545 0.99819186 1.01686548]\n"
     ]
    }
   ],
   "source": [
    "## Calculating eigen values and eigen vectors\n",
    "eig_vals, eig_vecs = np.linalg.eig(cov_matrix)\n",
    "print('\\033[1mEigen vectors :\\033[0m','\\n', eig_vecs)\n",
    "print('\\n')\n",
    "print('\\033[1mEigen values :\\033[0m','\\n', eig_vals)"
   ]
  },
  {
   "cell_type": "code",
   "execution_count": 31,
   "id": "2faa4d08",
   "metadata": {},
   "outputs": [
    {
     "name": "stdout",
     "output_type": "stream",
     "text": [
      "\u001b[1mVariance Explained : \u001b[0m \n",
      " [28.99063120103076, 11.427867418203112, 9.773866099738857, 9.240104772844962, 9.070420346680972, 8.020823626792332, 7.4046936912405, 6.368828985843825, 5.222829816381421, 3.0353006494361603, 1.4446333918070988]\n",
      "\n",
      "\n",
      "\u001b[1mCummulative Variance Explained : \u001b[0m \n",
      " [ 28.9906312   40.41849862  50.19236472  59.43246949  68.50288984\n",
      "  76.52371347  83.92840716  90.29723614  95.52006596  98.55536661\n",
      " 100.        ]\n"
     ]
    }
   ],
   "source": [
    "## Calculating the Variance explained and the cummulative variance explained\n",
    "total = sum(eig_vals)\n",
    "var_exp = [ (i/total)*100  for i in sorted(eig_vals, reverse = True)]\n",
    "cum_var_exp = np.cumsum(var_exp)\n",
    "print('\\033[1mVariance Explained : \\033[0m','\\n', var_exp)\n",
    "print('\\n')\n",
    "print('\\033[1mCummulative Variance Explained : \\033[0m','\\n', cum_var_exp)"
   ]
  },
  {
   "cell_type": "code",
   "execution_count": 32,
   "id": "fb26fc17",
   "metadata": {},
   "outputs": [
    {
     "data": {
      "image/png": "[encoded data removed]",
      "text/plain": [
       "<Figure size 640x480 with 1 Axes>"
      ]
     },
     "metadata": {},
     "output_type": "display_data"
    }
   ],
   "source": [
    "## Scree plot\n",
    "plt.bar(range(11), var_exp, align ='center', color ='lightgreen', edgecolor ='black', label ='Indiviual Explained Varinace')\n",
    "plt.step(range(11), cum_var_exp, where ='mid', color ='red', label ='Cummulative explained Variance')\n",
    "plt.legend(loc = 'best')\n",
    "plt.ylabel('Explained Variance Ratio')\n",
    "plt.title('Scree Plot')\n",
    "plt.xlabel('Principal Components')\n",
    "plt.tight_layout()\n",
    "plt.show()"
   ]
  },
  {
   "cell_type": "markdown",
   "id": "d7f82129",
   "metadata": {},
   "source": [
    "- We can observe from the above scree plot the first 9 principal components are explaining the about 90-95 % of the variation. So we can choose optimal number of the principal components as 9."
   ]
  },
  {
   "cell_type": "markdown",
   "id": "b2df19d7",
   "metadata": {
    "id": "b2df19d7"
   },
   "source": [
    "### 16. Apply K-means clustering and segment the data (Use PCA transformed data for clustering)"
   ]
  },
  {
   "cell_type": "code",
   "execution_count": 37,
   "id": "a3a8bb4c",
   "metadata": {
    "id": "a3a8bb4c"
   },
   "outputs": [
    {
     "data": {
      "text/html": [
       "<style>#sk-container-id-2 {color: black;}#sk-container-id-2 pre{padding: 0;}#sk-container-id-2 div.sk-toggleable {background-color: white;}#sk-container-id-2 label.sk-toggleable__label {cursor: pointer;display: block;width: 100%;margin-bottom: 0;padding: 0.3em;box-sizing: border-box;text-align: center;}#sk-container-id-2 label.sk-toggleable__label-arrow:before {content: \"▸\";float: left;margin-right: 0.25em;color: #696969;}#sk-container-id-2 label.sk-toggleable__label-arrow:hover:before {color: black;}#sk-container-id-2 div.sk-estimator:hover label.sk-toggleable__label-arrow:before {color: black;}#sk-container-id-2 div.sk-toggleable__content {max-height: 0;max-width: 0;overflow: hidden;text-align: left;background-color: #f0f8ff;}#sk-container-id-2 div.sk-toggleable__content pre {margin: 0.2em;color: black;border-radius: 0.25em;background-color: #f0f8ff;}#sk-container-id-2 input.sk-toggleable__control:checked~div.sk-toggleable__content {max-height: 200px;max-width: 100%;overflow: auto;}#sk-container-id-2 input.sk-toggleable__control:checked~label.sk-toggleable__label-arrow:before {content: \"▾\";}#sk-container-id-2 div.sk-estimator input.sk-toggleable__control:checked~label.sk-toggleable__label {background-color: #d4ebff;}#sk-container-id-2 div.sk-label input.sk-toggleable__control:checked~label.sk-toggleable__label {background-color: #d4ebff;}#sk-container-id-2 input.sk-hidden--visually {border: 0;clip: rect(1px 1px 1px 1px);clip: rect(1px, 1px, 1px, 1px);height: 1px;margin: -1px;overflow: hidden;padding: 0;position: absolute;width: 1px;}#sk-container-id-2 div.sk-estimator {font-family: monospace;background-color: #f0f8ff;border: 1px dotted black;border-radius: 0.25em;box-sizing: border-box;margin-bottom: 0.5em;}#sk-container-id-2 div.sk-estimator:hover {background-color: #d4ebff;}#sk-container-id-2 div.sk-parallel-item::after {content: \"\";width: 100%;border-bottom: 1px solid gray;flex-grow: 1;}#sk-container-id-2 div.sk-label:hover label.sk-toggleable__label {background-color: #d4ebff;}#sk-container-id-2 div.sk-serial::before {content: \"\";position: absolute;border-left: 1px solid gray;box-sizing: border-box;top: 0;bottom: 0;left: 50%;z-index: 0;}#sk-container-id-2 div.sk-serial {display: flex;flex-direction: column;align-items: center;background-color: white;padding-right: 0.2em;padding-left: 0.2em;position: relative;}#sk-container-id-2 div.sk-item {position: relative;z-index: 1;}#sk-container-id-2 div.sk-parallel {display: flex;align-items: stretch;justify-content: center;background-color: white;position: relative;}#sk-container-id-2 div.sk-item::before, #sk-container-id-2 div.sk-parallel-item::before {content: \"\";position: absolute;border-left: 1px solid gray;box-sizing: border-box;top: 0;bottom: 0;left: 50%;z-index: -1;}#sk-container-id-2 div.sk-parallel-item {display: flex;flex-direction: column;z-index: 1;position: relative;background-color: white;}#sk-container-id-2 div.sk-parallel-item:first-child::after {align-self: flex-end;width: 50%;}#sk-container-id-2 div.sk-parallel-item:last-child::after {align-self: flex-start;width: 50%;}#sk-container-id-2 div.sk-parallel-item:only-child::after {width: 0;}#sk-container-id-2 div.sk-dashed-wrapped {border: 1px dashed gray;margin: 0 0.4em 0.5em 0.4em;box-sizing: border-box;padding-bottom: 0.4em;background-color: white;}#sk-container-id-2 div.sk-label label {font-family: monospace;font-weight: bold;display: inline-block;line-height: 1.2em;}#sk-container-id-2 div.sk-label-container {text-align: center;}#sk-container-id-2 div.sk-container {/* jupyter's `normalize.less` sets `[hidden] { display: none; }` but bootstrap.min.css set `[hidden] { display: none !important; }` so we also need the `!important` here to be able to override the default hidden behavior on the sphinx rendered scikit-learn.org. See: https://github.com/scikit-learn/scikit-learn/issues/21755 */display: inline-block !important;position: relative;}#sk-container-id-2 div.sk-text-repr-fallback {display: none;}</style><div id=\"sk-container-id-2\" class=\"sk-top-container\"><div class=\"sk-text-repr-fallback\"><pre>PCA(n_components=9)</pre><b>In a Jupyter environment, please rerun this cell to show the HTML representation or trust the notebook. <br />On GitHub, the HTML representation is unable to render, please try loading this page with nbviewer.org.</b></div><div class=\"sk-container\" hidden><div class=\"sk-item\"><div class=\"sk-estimator sk-toggleable\"><input class=\"sk-toggleable__control sk-hidden--visually\" id=\"sk-estimator-id-2\" type=\"checkbox\" checked><label for=\"sk-estimator-id-2\" class=\"sk-toggleable__label sk-toggleable__label-arrow\">PCA</label><div class=\"sk-toggleable__content\"><pre>PCA(n_components=9)</pre></div></div></div></div></div>"
      ],
      "text/plain": [
       "PCA(n_components=9)"
      ]
     },
     "execution_count": 37,
     "metadata": {},
     "output_type": "execute_result"
    }
   ],
   "source": [
    "## Using the dimensions obtained from the PCA to apply clustering.(i.e, 9)\n",
    "pca = PCA(n_components = 9)\n",
    "pca.fit(scaled_ds)"
   ]
  },
  {
   "cell_type": "code",
   "execution_count": 38,
   "id": "0842a076",
   "metadata": {},
   "outputs": [
    {
     "data": {
      "text/html": [
       "<div>\n",
       "<style scoped>\n",
       "    .dataframe tbody tr th:only-of-type {\n",
       "        vertical-align: middle;\n",
       "    }\n",
       "\n",
       "    .dataframe tbody tr th {\n",
       "        vertical-align: top;\n",
       "    }\n",
       "\n",
       "    .dataframe thead th {\n",
       "        text-align: right;\n",
       "    }\n",
       "</style>\n",
       "<table border=\"1\" class=\"dataframe\">\n",
       "  <thead>\n",
       "    <tr style=\"text-align: right;\">\n",
       "      <th></th>\n",
       "      <th>PC1</th>\n",
       "      <th>PC2</th>\n",
       "      <th>PC3</th>\n",
       "      <th>PC4</th>\n",
       "      <th>PC5</th>\n",
       "      <th>PC6</th>\n",
       "      <th>PC7</th>\n",
       "      <th>PC8</th>\n",
       "      <th>PC9</th>\n",
       "    </tr>\n",
       "  </thead>\n",
       "  <tbody>\n",
       "    <tr>\n",
       "      <th>0</th>\n",
       "      <td>1.956902</td>\n",
       "      <td>-0.081936</td>\n",
       "      <td>-0.344667</td>\n",
       "      <td>1.193687</td>\n",
       "      <td>-0.696970</td>\n",
       "      <td>-0.299137</td>\n",
       "      <td>-1.145041</td>\n",
       "      <td>-0.358094</td>\n",
       "      <td>-1.576873</td>\n",
       "    </tr>\n",
       "    <tr>\n",
       "      <th>1</th>\n",
       "      <td>-1.512598</td>\n",
       "      <td>1.000666</td>\n",
       "      <td>-0.367106</td>\n",
       "      <td>1.006953</td>\n",
       "      <td>-0.445000</td>\n",
       "      <td>1.371965</td>\n",
       "      <td>-0.724374</td>\n",
       "      <td>-0.346359</td>\n",
       "      <td>0.972746</td>\n",
       "    </tr>\n",
       "    <tr>\n",
       "      <th>2</th>\n",
       "      <td>1.314538</td>\n",
       "      <td>-0.299417</td>\n",
       "      <td>0.296366</td>\n",
       "      <td>-0.764913</td>\n",
       "      <td>0.732877</td>\n",
       "      <td>0.984394</td>\n",
       "      <td>0.025389</td>\n",
       "      <td>0.058563</td>\n",
       "      <td>-0.735851</td>\n",
       "    </tr>\n",
       "    <tr>\n",
       "      <th>3</th>\n",
       "      <td>-1.755094</td>\n",
       "      <td>-1.139847</td>\n",
       "      <td>-0.254499</td>\n",
       "      <td>-0.825065</td>\n",
       "      <td>0.579217</td>\n",
       "      <td>0.221975</td>\n",
       "      <td>0.562426</td>\n",
       "      <td>0.239541</td>\n",
       "      <td>0.005032</td>\n",
       "    </tr>\n",
       "    <tr>\n",
       "      <th>4</th>\n",
       "      <td>0.063584</td>\n",
       "      <td>0.571435</td>\n",
       "      <td>0.902243</td>\n",
       "      <td>-0.757574</td>\n",
       "      <td>-0.794825</td>\n",
       "      <td>-1.241683</td>\n",
       "      <td>1.325626</td>\n",
       "      <td>0.898316</td>\n",
       "      <td>-0.016878</td>\n",
       "    </tr>\n",
       "  </tbody>\n",
       "</table>\n",
       "</div>"
      ],
      "text/plain": [
       "        PC1       PC2       PC3       PC4       PC5       PC6       PC7  \\\n",
       "0  1.956902 -0.081936 -0.344667  1.193687 -0.696970 -0.299137 -1.145041   \n",
       "1 -1.512598  1.000666 -0.367106  1.006953 -0.445000  1.371965 -0.724374   \n",
       "2  1.314538 -0.299417  0.296366 -0.764913  0.732877  0.984394  0.025389   \n",
       "3 -1.755094 -1.139847 -0.254499 -0.825065  0.579217  0.221975  0.562426   \n",
       "4  0.063584  0.571435  0.902243 -0.757574 -0.794825 -1.241683  1.325626   \n",
       "\n",
       "        PC8       PC9  \n",
       "0 -0.358094 -1.576873  \n",
       "1 -0.346359  0.972746  \n",
       "2  0.058563 -0.735851  \n",
       "3  0.239541  0.005032  \n",
       "4  0.898316 -0.016878  "
      ]
     },
     "execution_count": 38,
     "metadata": {},
     "output_type": "execute_result"
    }
   ],
   "source": [
    "data_pca = pca.fit_transform(scaled_ds)\n",
    "data_pca = pd.DataFrame(data_pca,columns=['PC1','PC2','PC3','PC4','PC5','PC6','PC7','PC8','PC9'])\n",
    "data_pca.head()"
   ]
  },
  {
   "cell_type": "markdown",
   "id": "e3d66f6f",
   "metadata": {},
   "source": [
    "#### Kmeans Clustering using PCA transformed data"
   ]
  },
  {
   "cell_type": "code",
   "execution_count": 39,
   "id": "3e1b12c4",
   "metadata": {},
   "outputs": [
    {
     "data": {
      "text/html": [
       "<div>\n",
       "<style scoped>\n",
       "    .dataframe tbody tr th:only-of-type {\n",
       "        vertical-align: middle;\n",
       "    }\n",
       "\n",
       "    .dataframe tbody tr th {\n",
       "        vertical-align: top;\n",
       "    }\n",
       "\n",
       "    .dataframe thead th {\n",
       "        text-align: right;\n",
       "    }\n",
       "</style>\n",
       "<table border=\"1\" class=\"dataframe\">\n",
       "  <thead>\n",
       "    <tr style=\"text-align: right;\">\n",
       "      <th></th>\n",
       "      <th>num_clusters</th>\n",
       "      <th>cluster_errors</th>\n",
       "    </tr>\n",
       "  </thead>\n",
       "  <tbody>\n",
       "    <tr>\n",
       "      <th>0</th>\n",
       "      <td>2</td>\n",
       "      <td>18133.246696</td>\n",
       "    </tr>\n",
       "    <tr>\n",
       "      <th>1</th>\n",
       "      <td>3</td>\n",
       "      <td>16680.657248</td>\n",
       "    </tr>\n",
       "    <tr>\n",
       "      <th>2</th>\n",
       "      <td>4</td>\n",
       "      <td>14487.983905</td>\n",
       "    </tr>\n",
       "    <tr>\n",
       "      <th>3</th>\n",
       "      <td>5</td>\n",
       "      <td>13352.320558</td>\n",
       "    </tr>\n",
       "    <tr>\n",
       "      <th>4</th>\n",
       "      <td>6</td>\n",
       "      <td>12391.008615</td>\n",
       "    </tr>\n",
       "    <tr>\n",
       "      <th>5</th>\n",
       "      <td>7</td>\n",
       "      <td>11731.008050</td>\n",
       "    </tr>\n",
       "    <tr>\n",
       "      <th>6</th>\n",
       "      <td>8</td>\n",
       "      <td>11149.755515</td>\n",
       "    </tr>\n",
       "    <tr>\n",
       "      <th>7</th>\n",
       "      <td>9</td>\n",
       "      <td>10731.963524</td>\n",
       "    </tr>\n",
       "    <tr>\n",
       "      <th>8</th>\n",
       "      <td>10</td>\n",
       "      <td>10363.300039</td>\n",
       "    </tr>\n",
       "    <tr>\n",
       "      <th>9</th>\n",
       "      <td>11</td>\n",
       "      <td>10058.500176</td>\n",
       "    </tr>\n",
       "    <tr>\n",
       "      <th>10</th>\n",
       "      <td>12</td>\n",
       "      <td>9740.282156</td>\n",
       "    </tr>\n",
       "    <tr>\n",
       "      <th>11</th>\n",
       "      <td>13</td>\n",
       "      <td>9494.253412</td>\n",
       "    </tr>\n",
       "    <tr>\n",
       "      <th>12</th>\n",
       "      <td>14</td>\n",
       "      <td>9287.029569</td>\n",
       "    </tr>\n",
       "  </tbody>\n",
       "</table>\n",
       "</div>"
      ],
      "text/plain": [
       "    num_clusters  cluster_errors\n",
       "0              2    18133.246696\n",
       "1              3    16680.657248\n",
       "2              4    14487.983905\n",
       "3              5    13352.320558\n",
       "4              6    12391.008615\n",
       "5              7    11731.008050\n",
       "6              8    11149.755515\n",
       "7              9    10731.963524\n",
       "8             10    10363.300039\n",
       "9             11    10058.500176\n",
       "10            12     9740.282156\n",
       "11            13     9494.253412\n",
       "12            14     9287.029569"
      ]
     },
     "execution_count": 39,
     "metadata": {},
     "output_type": "execute_result"
    }
   ],
   "source": [
    "## Finding optimal K value by KMeans Clustering using Elbow plot.\n",
    "cluster_range = range(2,15)\n",
    "cluster_errors = []\n",
    "\n",
    "for num_clusters in cluster_range:\n",
    "   \n",
    "    clusters = KMeans(num_clusters, n_init=8)\n",
    "    clusters.fit(data_pca)\n",
    "    \n",
    "    labels = clusters.labels_\n",
    "    centroids = clusters.cluster_centers_\n",
    "    \n",
    "    cluster_errors.append(clusters.inertia_)\n",
    "\n",
    "## Creating a dataframe of number of clusters and cluster errors.\n",
    "clusters_df = pd.DataFrame({'num_clusters':cluster_range, \n",
    "                           'cluster_errors':cluster_errors})\n",
    "\n",
    "clusters_df"
   ]
  },
  {
   "cell_type": "code",
   "execution_count": 40,
   "id": "36f61ca5",
   "metadata": {},
   "outputs": [
    {
     "data": {
      "image/png": "[encoded data removed]",
      "text/plain": [
       "<Figure size 1500x500 with 1 Axes>"
      ]
     },
     "metadata": {},
     "output_type": "display_data"
    }
   ],
   "source": [
    "# Elbow plot\n",
    "plt.figure(figsize=[15,5])\n",
    "plt.title('The Elbow Method')\n",
    "plt.xlabel('Number of clusters using PCA')\n",
    "plt.plot(clusters_df['num_clusters'],clusters_df['cluster_errors'],marker='o',color='b')\n",
    "plt.show()"
   ]
  },
  {
   "cell_type": "markdown",
   "id": "db1477ef",
   "metadata": {},
   "source": [
    "- From the above elbow plot we can see at the cluster K=4 the inertia significantly decreases. Hence we can select our optimal clusters as K=4."
   ]
  },
  {
   "cell_type": "code",
   "execution_count": 41,
   "id": "e4fbe82c",
   "metadata": {},
   "outputs": [
    {
     "data": {
      "text/html": [
       "<style>#sk-container-id-3 {color: black;}#sk-container-id-3 pre{padding: 0;}#sk-container-id-3 div.sk-toggleable {background-color: white;}#sk-container-id-3 label.sk-toggleable__label {cursor: pointer;display: block;width: 100%;margin-bottom: 0;padding: 0.3em;box-sizing: border-box;text-align: center;}#sk-container-id-3 label.sk-toggleable__label-arrow:before {content: \"▸\";float: left;margin-right: 0.25em;color: #696969;}#sk-container-id-3 label.sk-toggleable__label-arrow:hover:before {color: black;}#sk-container-id-3 div.sk-estimator:hover label.sk-toggleable__label-arrow:before {color: black;}#sk-container-id-3 div.sk-toggleable__content {max-height: 0;max-width: 0;overflow: hidden;text-align: left;background-color: #f0f8ff;}#sk-container-id-3 div.sk-toggleable__content pre {margin: 0.2em;color: black;border-radius: 0.25em;background-color: #f0f8ff;}#sk-container-id-3 input.sk-toggleable__control:checked~div.sk-toggleable__content {max-height: 200px;max-width: 100%;overflow: auto;}#sk-container-id-3 input.sk-toggleable__control:checked~label.sk-toggleable__label-arrow:before {content: \"▾\";}#sk-container-id-3 div.sk-estimator input.sk-toggleable__control:checked~label.sk-toggleable__label {background-color: #d4ebff;}#sk-container-id-3 div.sk-label input.sk-toggleable__control:checked~label.sk-toggleable__label {background-color: #d4ebff;}#sk-container-id-3 input.sk-hidden--visually {border: 0;clip: rect(1px 1px 1px 1px);clip: rect(1px, 1px, 1px, 1px);height: 1px;margin: -1px;overflow: hidden;padding: 0;position: absolute;width: 1px;}#sk-container-id-3 div.sk-estimator {font-family: monospace;background-color: #f0f8ff;border: 1px dotted black;border-radius: 0.25em;box-sizing: border-box;margin-bottom: 0.5em;}#sk-container-id-3 div.sk-estimator:hover {background-color: #d4ebff;}#sk-container-id-3 div.sk-parallel-item::after {content: \"\";width: 100%;border-bottom: 1px solid gray;flex-grow: 1;}#sk-container-id-3 div.sk-label:hover label.sk-toggleable__label {background-color: #d4ebff;}#sk-container-id-3 div.sk-serial::before {content: \"\";position: absolute;border-left: 1px solid gray;box-sizing: border-box;top: 0;bottom: 0;left: 50%;z-index: 0;}#sk-container-id-3 div.sk-serial {display: flex;flex-direction: column;align-items: center;background-color: white;padding-right: 0.2em;padding-left: 0.2em;position: relative;}#sk-container-id-3 div.sk-item {position: relative;z-index: 1;}#sk-container-id-3 div.sk-parallel {display: flex;align-items: stretch;justify-content: center;background-color: white;position: relative;}#sk-container-id-3 div.sk-item::before, #sk-container-id-3 div.sk-parallel-item::before {content: \"\";position: absolute;border-left: 1px solid gray;box-sizing: border-box;top: 0;bottom: 0;left: 50%;z-index: -1;}#sk-container-id-3 div.sk-parallel-item {display: flex;flex-direction: column;z-index: 1;position: relative;background-color: white;}#sk-container-id-3 div.sk-parallel-item:first-child::after {align-self: flex-end;width: 50%;}#sk-container-id-3 div.sk-parallel-item:last-child::after {align-self: flex-start;width: 50%;}#sk-container-id-3 div.sk-parallel-item:only-child::after {width: 0;}#sk-container-id-3 div.sk-dashed-wrapped {border: 1px dashed gray;margin: 0 0.4em 0.5em 0.4em;box-sizing: border-box;padding-bottom: 0.4em;background-color: white;}#sk-container-id-3 div.sk-label label {font-family: monospace;font-weight: bold;display: inline-block;line-height: 1.2em;}#sk-container-id-3 div.sk-label-container {text-align: center;}#sk-container-id-3 div.sk-container {/* jupyter's `normalize.less` sets `[hidden] { display: none; }` but bootstrap.min.css set `[hidden] { display: none !important; }` so we also need the `!important` here to be able to override the default hidden behavior on the sphinx rendered scikit-learn.org. See: https://github.com/scikit-learn/scikit-learn/issues/21755 */display: inline-block !important;position: relative;}#sk-container-id-3 div.sk-text-repr-fallback {display: none;}</style><div id=\"sk-container-id-3\" class=\"sk-top-container\"><div class=\"sk-text-repr-fallback\"><pre>KMeans(n_clusters=4, n_init=15, random_state=100)</pre><b>In a Jupyter environment, please rerun this cell to show the HTML representation or trust the notebook. <br />On GitHub, the HTML representation is unable to render, please try loading this page with nbviewer.org.</b></div><div class=\"sk-container\" hidden><div class=\"sk-item\"><div class=\"sk-estimator sk-toggleable\"><input class=\"sk-toggleable__control sk-hidden--visually\" id=\"sk-estimator-id-3\" type=\"checkbox\" checked><label for=\"sk-estimator-id-3\" class=\"sk-toggleable__label sk-toggleable__label-arrow\">KMeans</label><div class=\"sk-toggleable__content\"><pre>KMeans(n_clusters=4, n_init=15, random_state=100)</pre></div></div></div></div></div>"
      ],
      "text/plain": [
       "KMeans(n_clusters=4, n_init=15, random_state=100)"
      ]
     },
     "execution_count": 41,
     "metadata": {},
     "output_type": "execute_result"
    }
   ],
   "source": [
    "## Applying KMeans clustering for the optimal number of clusters obtained above.\n",
    "kmeans = KMeans(n_clusters=4, n_init=15, random_state=100)\n",
    "kmeans.fit(data_pca)"
   ]
  },
  {
   "cell_type": "code",
   "execution_count": 42,
   "id": "b5deec9d",
   "metadata": {},
   "outputs": [
    {
     "data": {
      "text/plain": [
       "array([2, 1, 2, ..., 2, 2, 1])"
      ]
     },
     "execution_count": 42,
     "metadata": {},
     "output_type": "execute_result"
    }
   ],
   "source": [
    "## obtained labels from kmeans clustering.\n",
    "kmeans.labels_"
   ]
  },
  {
   "cell_type": "code",
   "execution_count": 43,
   "id": "0cfb1a33",
   "metadata": {},
   "outputs": [
    {
     "data": {
      "text/html": [
       "<div>\n",
       "<style scoped>\n",
       "    .dataframe tbody tr th:only-of-type {\n",
       "        vertical-align: middle;\n",
       "    }\n",
       "\n",
       "    .dataframe tbody tr th {\n",
       "        vertical-align: top;\n",
       "    }\n",
       "\n",
       "    .dataframe thead th {\n",
       "        text-align: right;\n",
       "    }\n",
       "</style>\n",
       "<table border=\"1\" class=\"dataframe\">\n",
       "  <thead>\n",
       "    <tr style=\"text-align: right;\">\n",
       "      <th></th>\n",
       "      <th>PC1</th>\n",
       "      <th>PC2</th>\n",
       "      <th>PC3</th>\n",
       "      <th>PC4</th>\n",
       "      <th>PC5</th>\n",
       "      <th>PC6</th>\n",
       "      <th>PC7</th>\n",
       "      <th>PC8</th>\n",
       "      <th>PC9</th>\n",
       "      <th>Labels</th>\n",
       "    </tr>\n",
       "  </thead>\n",
       "  <tbody>\n",
       "    <tr>\n",
       "      <th>0</th>\n",
       "      <td>1.956902</td>\n",
       "      <td>-0.081936</td>\n",
       "      <td>-0.344667</td>\n",
       "      <td>1.193687</td>\n",
       "      <td>-0.696970</td>\n",
       "      <td>-0.299137</td>\n",
       "      <td>-1.145041</td>\n",
       "      <td>-0.358094</td>\n",
       "      <td>-1.576873</td>\n",
       "      <td>2</td>\n",
       "    </tr>\n",
       "    <tr>\n",
       "      <th>1</th>\n",
       "      <td>-1.512598</td>\n",
       "      <td>1.000666</td>\n",
       "      <td>-0.367106</td>\n",
       "      <td>1.006953</td>\n",
       "      <td>-0.445000</td>\n",
       "      <td>1.371965</td>\n",
       "      <td>-0.724374</td>\n",
       "      <td>-0.346359</td>\n",
       "      <td>0.972746</td>\n",
       "      <td>1</td>\n",
       "    </tr>\n",
       "    <tr>\n",
       "      <th>2</th>\n",
       "      <td>1.314538</td>\n",
       "      <td>-0.299417</td>\n",
       "      <td>0.296366</td>\n",
       "      <td>-0.764913</td>\n",
       "      <td>0.732877</td>\n",
       "      <td>0.984394</td>\n",
       "      <td>0.025389</td>\n",
       "      <td>0.058563</td>\n",
       "      <td>-0.735851</td>\n",
       "      <td>2</td>\n",
       "    </tr>\n",
       "    <tr>\n",
       "      <th>3</th>\n",
       "      <td>-1.755094</td>\n",
       "      <td>-1.139847</td>\n",
       "      <td>-0.254499</td>\n",
       "      <td>-0.825065</td>\n",
       "      <td>0.579217</td>\n",
       "      <td>0.221975</td>\n",
       "      <td>0.562426</td>\n",
       "      <td>0.239541</td>\n",
       "      <td>0.005032</td>\n",
       "      <td>1</td>\n",
       "    </tr>\n",
       "    <tr>\n",
       "      <th>4</th>\n",
       "      <td>0.063584</td>\n",
       "      <td>0.571435</td>\n",
       "      <td>0.902243</td>\n",
       "      <td>-0.757574</td>\n",
       "      <td>-0.794825</td>\n",
       "      <td>-1.241683</td>\n",
       "      <td>1.325626</td>\n",
       "      <td>0.898316</td>\n",
       "      <td>-0.016878</td>\n",
       "      <td>2</td>\n",
       "    </tr>\n",
       "  </tbody>\n",
       "</table>\n",
       "</div>"
      ],
      "text/plain": [
       "        PC1       PC2       PC3       PC4       PC5       PC6       PC7  \\\n",
       "0  1.956902 -0.081936 -0.344667  1.193687 -0.696970 -0.299137 -1.145041   \n",
       "1 -1.512598  1.000666 -0.367106  1.006953 -0.445000  1.371965 -0.724374   \n",
       "2  1.314538 -0.299417  0.296366 -0.764913  0.732877  0.984394  0.025389   \n",
       "3 -1.755094 -1.139847 -0.254499 -0.825065  0.579217  0.221975  0.562426   \n",
       "4  0.063584  0.571435  0.902243 -0.757574 -0.794825 -1.241683  1.325626   \n",
       "\n",
       "        PC8       PC9  Labels  \n",
       "0 -0.358094 -1.576873       2  \n",
       "1 -0.346359  0.972746       1  \n",
       "2  0.058563 -0.735851       2  \n",
       "3  0.239541  0.005032       1  \n",
       "4  0.898316 -0.016878       2  "
      ]
     },
     "execution_count": 43,
     "metadata": {},
     "output_type": "execute_result"
    }
   ],
   "source": [
    "## Creating a new dataframe only for labels.\n",
    "df_labels = pd.DataFrame(kmeans.labels_, columns=list(['Labels']))\n",
    "\n",
    "## Joining the \"labels\" dataframe to the \"data_pca\" dataframe.\n",
    "kmeans_df=data_pca.join(df_labels)\n",
    "kmeans_df.head(5)"
   ]
  },
  {
   "cell_type": "code",
   "execution_count": 44,
   "id": "ab4cb188",
   "metadata": {},
   "outputs": [
    {
     "data": {
      "text/plain": [
       "1    1160\n",
       "2     830\n",
       "0     229\n",
       "3      21\n",
       "Name: Labels, dtype: int64"
      ]
     },
     "execution_count": 44,
     "metadata": {},
     "output_type": "execute_result"
    }
   ],
   "source": [
    "kmeans_df['Labels'].value_counts()"
   ]
  },
  {
   "cell_type": "code",
   "execution_count": 45,
   "id": "945e46e0",
   "metadata": {},
   "outputs": [
    {
     "data": {
      "image/png": "[encoded data removed]",
      "text/plain": [
       "<Figure size 640x480 with 1 Axes>"
      ]
     },
     "metadata": {},
     "output_type": "display_data"
    }
   ],
   "source": [
    "## Visualizing the clusters formed.\n",
    "sns.scatterplot(kmeans_df['PC1'], kmeans_df['PC2'], hue = 'Labels', data = kmeans_df)\n",
    "plt.show()"
   ]
  },
  {
   "cell_type": "markdown",
   "id": "d8463aed",
   "metadata": {
    "id": "d8463aed"
   },
   "source": [
    "### 17. Apply Agglomerative clustering and segment the data (Use Original data for clustering), and perform cluster analysis by doing bivariate analysis between the cluster label and different features and write your observations."
   ]
  },
  {
   "cell_type": "markdown",
   "id": "0e4e9abd",
   "metadata": {},
   "source": [
    "#### Agglomerative clustering using the original data"
   ]
  },
  {
   "cell_type": "code",
   "execution_count": 46,
   "id": "b5ca165b",
   "metadata": {
    "id": "b5ca165b"
   },
   "outputs": [
    {
     "data": {
      "image/png": "[encoded data removed]",
      "text/plain": [
       "<Figure size 1800x700 with 1 Axes>"
      ]
     },
     "metadata": {},
     "output_type": "display_data"
    }
   ],
   "source": [
    "plt.figure(figsize=[18,7])\n",
    "merg = linkage(data_pca, method = 'ward')\n",
    "dendrogram(merg, leaf_rotation = 90)\n",
    "plt.title('Dendrogram For Agglomerative Clustering')\n",
    "plt.xlabel('Datapoints')\n",
    "plt.ylabel('Euclidean distance')\n",
    "plt.show()"
   ]
  },
  {
   "cell_type": "markdown",
   "id": "855362b2",
   "metadata": {},
   "source": [
    "#### Computing Silhoutte score for agglomerative clustering"
   ]
  },
  {
   "cell_type": "code",
   "execution_count": 47,
   "id": "1167282b",
   "metadata": {},
   "outputs": [
    {
     "name": "stdout",
     "output_type": "stream",
     "text": [
      "2 0.19935517134772315\n",
      "3 0.20991069780806987\n",
      "4 0.14388240545015002\n",
      "5 0.13852017044449022\n",
      "6 0.1300901710840664\n",
      "7 0.1371948449051207\n",
      "8 0.114882273501008\n",
      "9 0.11736116990893038\n",
      "10 0.11900567968527014\n",
      "11 0.11648357625429781\n",
      "12 0.09908149151535608\n",
      "13 0.0934289455846177\n",
      "14 0.09088631002875078\n"
     ]
    }
   ],
   "source": [
    "from sklearn.metrics import silhouette_score\n",
    "for i in range(2,15):\n",
    "    hier = AgglomerativeClustering(n_clusters=i)\n",
    "    hier = hier.fit(data_pca)\n",
    "    labels = hier.fit_predict(data_pca)\n",
    "    print(i,silhouette_score(data_pca,labels))"
   ]
  },
  {
   "cell_type": "markdown",
   "id": "65844c69",
   "metadata": {},
   "source": [
    "- We can observe from the above dendrogram and as well as the silhoutte scores for different clusters. The highest silhoutte score is for clusters 3.\n",
    "- Lets choose K=3 as the optimal cluster size and build a agglomerative clustering model using the original scaled dataset."
   ]
  },
  {
   "cell_type": "code",
   "execution_count": 49,
   "id": "3e6fdd39",
   "metadata": {},
   "outputs": [],
   "source": [
    "## Building hierarchical clustering model using the optimal clusters as 3 using original data\n",
    "hie_cluster = AgglomerativeClustering(n_clusters=3, affinity='euclidean',\n",
    "                                     linkage='ward')\n",
    "hie_cluster_model = hie_cluster.fit(data_pca)"
   ]
  },
  {
   "cell_type": "code",
   "execution_count": 50,
   "id": "38371499",
   "metadata": {},
   "outputs": [
    {
     "data": {
      "text/html": [
       "<div>\n",
       "<style scoped>\n",
       "    .dataframe tbody tr th:only-of-type {\n",
       "        vertical-align: middle;\n",
       "    }\n",
       "\n",
       "    .dataframe tbody tr th {\n",
       "        vertical-align: top;\n",
       "    }\n",
       "\n",
       "    .dataframe thead th {\n",
       "        text-align: right;\n",
       "    }\n",
       "</style>\n",
       "<table border=\"1\" class=\"dataframe\">\n",
       "  <thead>\n",
       "    <tr style=\"text-align: right;\">\n",
       "      <th></th>\n",
       "      <th>Labels</th>\n",
       "    </tr>\n",
       "  </thead>\n",
       "  <tbody>\n",
       "    <tr>\n",
       "      <th>0</th>\n",
       "      <td>1</td>\n",
       "    </tr>\n",
       "    <tr>\n",
       "      <th>1</th>\n",
       "      <td>0</td>\n",
       "    </tr>\n",
       "    <tr>\n",
       "      <th>2</th>\n",
       "      <td>1</td>\n",
       "    </tr>\n",
       "    <tr>\n",
       "      <th>3</th>\n",
       "      <td>0</td>\n",
       "    </tr>\n",
       "    <tr>\n",
       "      <th>4</th>\n",
       "      <td>1</td>\n",
       "    </tr>\n",
       "  </tbody>\n",
       "</table>\n",
       "</div>"
      ],
      "text/plain": [
       "   Labels\n",
       "0       1\n",
       "1       0\n",
       "2       1\n",
       "3       0\n",
       "4       1"
      ]
     },
     "execution_count": 50,
     "metadata": {},
     "output_type": "execute_result"
    }
   ],
   "source": [
    "## Creating a dataframe of the labels\n",
    "df_label1 = pd.DataFrame(hie_cluster_model.labels_,columns=['Labels'])\n",
    "df_label1.head(5)"
   ]
  },
  {
   "cell_type": "code",
   "execution_count": 51,
   "id": "c6d04944",
   "metadata": {},
   "outputs": [
    {
     "data": {
      "text/html": [
       "<div>\n",
       "<style scoped>\n",
       "    .dataframe tbody tr th:only-of-type {\n",
       "        vertical-align: middle;\n",
       "    }\n",
       "\n",
       "    .dataframe tbody tr th {\n",
       "        vertical-align: top;\n",
       "    }\n",
       "\n",
       "    .dataframe thead th {\n",
       "        text-align: right;\n",
       "    }\n",
       "</style>\n",
       "<table border=\"1\" class=\"dataframe\">\n",
       "  <thead>\n",
       "    <tr style=\"text-align: right;\">\n",
       "      <th></th>\n",
       "      <th>Education</th>\n",
       "      <th>Marital_Status</th>\n",
       "      <th>Income</th>\n",
       "      <th>Recency</th>\n",
       "      <th>NumWebVisitsMonth</th>\n",
       "      <th>Complain</th>\n",
       "      <th>Total_Expenses</th>\n",
       "      <th>Num_Total_Purchases</th>\n",
       "      <th>Kids</th>\n",
       "      <th>TotalAcceptedCmp</th>\n",
       "      <th>age</th>\n",
       "      <th>Labels</th>\n",
       "    </tr>\n",
       "  </thead>\n",
       "  <tbody>\n",
       "    <tr>\n",
       "      <th>0</th>\n",
       "      <td>2</td>\n",
       "      <td>1</td>\n",
       "      <td>58138.0</td>\n",
       "      <td>58</td>\n",
       "      <td>7</td>\n",
       "      <td>0</td>\n",
       "      <td>1617</td>\n",
       "      <td>25</td>\n",
       "      <td>0</td>\n",
       "      <td>1</td>\n",
       "      <td>66</td>\n",
       "      <td>1</td>\n",
       "    </tr>\n",
       "    <tr>\n",
       "      <th>1</th>\n",
       "      <td>2</td>\n",
       "      <td>1</td>\n",
       "      <td>46344.0</td>\n",
       "      <td>38</td>\n",
       "      <td>5</td>\n",
       "      <td>0</td>\n",
       "      <td>27</td>\n",
       "      <td>6</td>\n",
       "      <td>2</td>\n",
       "      <td>0</td>\n",
       "      <td>69</td>\n",
       "      <td>0</td>\n",
       "    </tr>\n",
       "    <tr>\n",
       "      <th>2</th>\n",
       "      <td>2</td>\n",
       "      <td>0</td>\n",
       "      <td>71613.0</td>\n",
       "      <td>26</td>\n",
       "      <td>4</td>\n",
       "      <td>0</td>\n",
       "      <td>776</td>\n",
       "      <td>21</td>\n",
       "      <td>0</td>\n",
       "      <td>0</td>\n",
       "      <td>58</td>\n",
       "      <td>1</td>\n",
       "    </tr>\n",
       "    <tr>\n",
       "      <th>3</th>\n",
       "      <td>2</td>\n",
       "      <td>0</td>\n",
       "      <td>26646.0</td>\n",
       "      <td>26</td>\n",
       "      <td>6</td>\n",
       "      <td>0</td>\n",
       "      <td>53</td>\n",
       "      <td>8</td>\n",
       "      <td>1</td>\n",
       "      <td>0</td>\n",
       "      <td>39</td>\n",
       "      <td>0</td>\n",
       "    </tr>\n",
       "    <tr>\n",
       "      <th>4</th>\n",
       "      <td>4</td>\n",
       "      <td>0</td>\n",
       "      <td>58293.0</td>\n",
       "      <td>94</td>\n",
       "      <td>5</td>\n",
       "      <td>0</td>\n",
       "      <td>422</td>\n",
       "      <td>19</td>\n",
       "      <td>1</td>\n",
       "      <td>0</td>\n",
       "      <td>42</td>\n",
       "      <td>1</td>\n",
       "    </tr>\n",
       "  </tbody>\n",
       "</table>\n",
       "</div>"
      ],
      "text/plain": [
       "   Education  Marital_Status   Income  Recency  NumWebVisitsMonth  Complain  \\\n",
       "0          2               1  58138.0       58                  7         0   \n",
       "1          2               1  46344.0       38                  5         0   \n",
       "2          2               0  71613.0       26                  4         0   \n",
       "3          2               0  26646.0       26                  6         0   \n",
       "4          4               0  58293.0       94                  5         0   \n",
       "\n",
       "   Total_Expenses  Num_Total_Purchases  Kids  TotalAcceptedCmp  age  Labels  \n",
       "0            1617                   25     0                 1   66       1  \n",
       "1              27                    6     2                 0   69       0  \n",
       "2             776                   21     0                 0   58       1  \n",
       "3              53                    8     1                 0   39       0  \n",
       "4             422                   19     1                 0   42       1  "
      ]
     },
     "execution_count": 51,
     "metadata": {},
     "output_type": "execute_result"
    }
   ],
   "source": [
    "## Joining the label dataframe with unscaled initial cleaned dataframe.\n",
    "\n",
    "df_hier = df.join(df_label1)\n",
    "df_hier.head()"
   ]
  },
  {
   "cell_type": "markdown",
   "id": "797a5ecd",
   "metadata": {
    "id": "797a5ecd"
   },
   "source": [
    "### Visualization and Interpretation of results"
   ]
  },
  {
   "cell_type": "code",
   "execution_count": 52,
   "id": "d1e75760",
   "metadata": {
    "id": "d1e75760"
   },
   "outputs": [
    {
     "data": {
      "image/png": "[encoded data removed]",
      "text/plain": [
       "<Figure size 640x480 with 1 Axes>"
      ]
     },
     "metadata": {},
     "output_type": "display_data"
    }
   ],
   "source": [
    "sns.barplot(df_hier['Labels'], df_hier['Total_Expenses'])\n",
    "plt.show()"
   ]
  },
  {
   "cell_type": "markdown",
   "id": "be34715d",
   "metadata": {},
   "source": [
    "- The Total Expenses is much higher for cluster 1 compared to other clusters."
   ]
  },
  {
   "cell_type": "code",
   "execution_count": 53,
   "id": "5befea3a",
   "metadata": {},
   "outputs": [
    {
     "data": {
      "image/png": "[encoded data removed]",
      "text/plain": [
       "<Figure size 640x480 with 1 Axes>"
      ]
     },
     "metadata": {},
     "output_type": "display_data"
    }
   ],
   "source": [
    "sns.barplot(df_hier['Labels'], df_hier['Income'])\n",
    "plt.show()"
   ]
  },
  {
   "cell_type": "markdown",
   "id": "9f906a76",
   "metadata": {},
   "source": [
    "- Where as the Income is also higher for the cluster 1 followed by cluster 2."
   ]
  },
  {
   "cell_type": "code",
   "execution_count": 54,
   "id": "81b20426",
   "metadata": {},
   "outputs": [
    {
     "data": {
      "image/png": "[encoded data removed]",
      "text/plain": [
       "<Figure size 640x480 with 1 Axes>"
      ]
     },
     "metadata": {},
     "output_type": "display_data"
    }
   ],
   "source": [
    "sns.countplot(df_hier['Marital_Status'], hue = 'Labels', data = df_hier)\n",
    "plt.show()"
   ]
  },
  {
   "cell_type": "markdown",
   "id": "dff4be70",
   "metadata": {},
   "source": [
    "- We can observe that the most of the customers who are in a relationship falls under cluster 0."
   ]
  },
  {
   "cell_type": "code",
   "execution_count": 55,
   "id": "a3c6abb2",
   "metadata": {},
   "outputs": [
    {
     "data": {
      "image/png": "[encoded data removed]",
      "text/plain": [
       "<Figure size 640x480 with 1 Axes>"
      ]
     },
     "metadata": {},
     "output_type": "display_data"
    }
   ],
   "source": [
    "sns.barplot(df_hier['Labels'], df_hier['Num_Total_Purchases'])\n",
    "plt.show()"
   ]
  },
  {
   "cell_type": "markdown",
   "id": "1ba120ce",
   "metadata": {},
   "source": [
    "- The Total number of purchases is also much higher for customers from cluster 1 compared to other clusters."
   ]
  },
  {
   "cell_type": "markdown",
   "id": "1e965c4e",
   "metadata": {},
   "source": [
    "- We can conclude that the customers belong to cluster 0 does maximum purchases, has spend maximum amount and have maximum income.\n",
    "- Where customers belong to cluster 3 has the least Total_expenses, minimum balance and does minimum purchases compared to other three clusters.\n",
    "- Customers belong to cluster 2 does average purchases, has average income."
   ]
  },
  {
   "cell_type": "markdown",
   "id": "36afd95b",
   "metadata": {
    "id": "36afd95b"
   },
   "source": [
    "-----\n",
    "## Happy Learning\n",
    "-----"
   ]
  }
 ],
 "metadata": {
  "colab": {
   "collapsed_sections": [
    "36afd95b"
   ],
   "name": "Unsupervised Learning - Lab session.ipynb",
   "provenance": []
  },
  "kernelspec": {
   "display_name": "Python 3 (ipykernel)",
   "language": "python",
   "name": "python3"
  },
  "language_info": {
   "codemirror_mode": {
    "name": "ipython",
    "version": 3
   },
   "file_extension": ".py",
   "mimetype": "text/x-python",
   "name": "python",
   "nbconvert_exporter": "python",
   "pygments_lexer": "ipython3",
   "version": "3.10.9"
  }
 },
 "nbformat": 4,
 "nbformat_minor": 5
}
